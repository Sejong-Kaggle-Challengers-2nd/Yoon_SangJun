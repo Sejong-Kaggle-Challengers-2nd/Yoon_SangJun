{
 "cells": [
  {
   "cell_type": "markdown",
   "metadata": {},
   "source": [
    "XGBoost(Extreme Gradient Boosting) -2014\n",
    "=========="
   ]
  },
  {
   "cell_type": "markdown",
   "metadata": {},
   "source": [
    "1. XGBoost 기본 동작 방식\n",
    "    -\n",
    "   1)모든 데이터를 이용하여 모형을 학습한 후 적용한 데이터로부터 잔차(결과와의 차이)를 구한다.  \n",
    "   2)잔차를 목적변수로 하여 동일한 특성변수 재적합.  \n",
    "   3)1번 2번과정을 M번 반복. ->M번 반복 과정에서 overfitting 자주 발생  \n",
    "     ->GBM과 동일한 알고리즘 사용\n",
    "       회귀에 사용하는 경우 특성변수별 SSE를 구해서 평가.(XGBRegreesor 사용)\n",
    "       분류에 사용하는 경우 infromation gain을 이용하여 평가.(XGBClassifier 사용)\n",
    "2.XGBBoost의 장점\n",
    "  -\n",
    "  1) 과대적합을 방지하기 위한 정규화가 존재  \n",
    "  2) 결측치 처리 방식을 지정하여 학습시킬 수 있음.  \n",
    "  3) 임의의 특성변수를 일부만 뽑아 사용할 수도 있음.\n",
    " \n",
    "3. 사용예시\n",
    "  -"
   ]
  },
  {
   "cell_type": "code",
   "execution_count": 6,
   "metadata": {},
   "outputs": [
    {
     "data": {
      "text/html": [
       "<div>\n",
       "<style scoped>\n",
       "    .dataframe tbody tr th:only-of-type {\n",
       "        vertical-align: middle;\n",
       "    }\n",
       "\n",
       "    .dataframe tbody tr th {\n",
       "        vertical-align: top;\n",
       "    }\n",
       "\n",
       "    .dataframe thead th {\n",
       "        text-align: right;\n",
       "    }\n",
       "</style>\n",
       "<table border=\"1\" class=\"dataframe\">\n",
       "  <thead>\n",
       "    <tr style=\"text-align: right;\">\n",
       "      <th></th>\n",
       "      <th>CRIM</th>\n",
       "      <th>ZN</th>\n",
       "      <th>INDUS</th>\n",
       "      <th>CHAS</th>\n",
       "      <th>NOX</th>\n",
       "      <th>RM</th>\n",
       "      <th>AGE</th>\n",
       "      <th>DIS</th>\n",
       "      <th>RAD</th>\n",
       "      <th>TAX</th>\n",
       "      <th>PTRATIO</th>\n",
       "      <th>B</th>\n",
       "      <th>LSTAT</th>\n",
       "      <th>MEDV</th>\n",
       "    </tr>\n",
       "  </thead>\n",
       "  <tbody>\n",
       "    <tr>\n",
       "      <th>0</th>\n",
       "      <td>0.00632</td>\n",
       "      <td>18.0</td>\n",
       "      <td>2.31</td>\n",
       "      <td>0</td>\n",
       "      <td>0.538</td>\n",
       "      <td>6.575</td>\n",
       "      <td>65.2</td>\n",
       "      <td>4.0900</td>\n",
       "      <td>1</td>\n",
       "      <td>296.0</td>\n",
       "      <td>15.3</td>\n",
       "      <td>396.90</td>\n",
       "      <td>4.98</td>\n",
       "      <td>24.0</td>\n",
       "    </tr>\n",
       "    <tr>\n",
       "      <th>1</th>\n",
       "      <td>0.02731</td>\n",
       "      <td>0.0</td>\n",
       "      <td>7.07</td>\n",
       "      <td>0</td>\n",
       "      <td>0.469</td>\n",
       "      <td>6.421</td>\n",
       "      <td>78.9</td>\n",
       "      <td>4.9671</td>\n",
       "      <td>2</td>\n",
       "      <td>242.0</td>\n",
       "      <td>17.8</td>\n",
       "      <td>396.90</td>\n",
       "      <td>9.14</td>\n",
       "      <td>21.6</td>\n",
       "    </tr>\n",
       "    <tr>\n",
       "      <th>2</th>\n",
       "      <td>0.02729</td>\n",
       "      <td>0.0</td>\n",
       "      <td>7.07</td>\n",
       "      <td>0</td>\n",
       "      <td>0.469</td>\n",
       "      <td>7.185</td>\n",
       "      <td>61.1</td>\n",
       "      <td>4.9671</td>\n",
       "      <td>2</td>\n",
       "      <td>242.0</td>\n",
       "      <td>17.8</td>\n",
       "      <td>392.83</td>\n",
       "      <td>4.03</td>\n",
       "      <td>34.7</td>\n",
       "    </tr>\n",
       "    <tr>\n",
       "      <th>3</th>\n",
       "      <td>0.03237</td>\n",
       "      <td>0.0</td>\n",
       "      <td>2.18</td>\n",
       "      <td>0</td>\n",
       "      <td>0.458</td>\n",
       "      <td>6.998</td>\n",
       "      <td>45.8</td>\n",
       "      <td>6.0622</td>\n",
       "      <td>3</td>\n",
       "      <td>222.0</td>\n",
       "      <td>18.7</td>\n",
       "      <td>394.63</td>\n",
       "      <td>2.94</td>\n",
       "      <td>33.4</td>\n",
       "    </tr>\n",
       "    <tr>\n",
       "      <th>4</th>\n",
       "      <td>0.06905</td>\n",
       "      <td>0.0</td>\n",
       "      <td>2.18</td>\n",
       "      <td>0</td>\n",
       "      <td>0.458</td>\n",
       "      <td>7.147</td>\n",
       "      <td>54.2</td>\n",
       "      <td>6.0622</td>\n",
       "      <td>3</td>\n",
       "      <td>222.0</td>\n",
       "      <td>18.7</td>\n",
       "      <td>396.90</td>\n",
       "      <td>5.33</td>\n",
       "      <td>36.2</td>\n",
       "    </tr>\n",
       "  </tbody>\n",
       "</table>\n",
       "</div>"
      ],
      "text/plain": [
       "      CRIM    ZN  INDUS  CHAS    NOX     RM   AGE     DIS  RAD    TAX  \\\n",
       "0  0.00632  18.0   2.31     0  0.538  6.575  65.2  4.0900    1  296.0   \n",
       "1  0.02731   0.0   7.07     0  0.469  6.421  78.9  4.9671    2  242.0   \n",
       "2  0.02729   0.0   7.07     0  0.469  7.185  61.1  4.9671    2  242.0   \n",
       "3  0.03237   0.0   2.18     0  0.458  6.998  45.8  6.0622    3  222.0   \n",
       "4  0.06905   0.0   2.18     0  0.458  7.147  54.2  6.0622    3  222.0   \n",
       "\n",
       "   PTRATIO       B  LSTAT  MEDV  \n",
       "0     15.3  396.90   4.98  24.0  \n",
       "1     17.8  396.90   9.14  21.6  \n",
       "2     17.8  392.83   4.03  34.7  \n",
       "3     18.7  394.63   2.94  33.4  \n",
       "4     18.7  396.90   5.33  36.2  "
      ]
     },
     "execution_count": 6,
     "metadata": {},
     "output_type": "execute_result"
    }
   ],
   "source": [
    "import pandas as pd\n",
    "house =pd.read_csv('housing.data.txt.',header=None, sep='\\s+')\n",
    "house.columns = ['CRIM', 'ZN', 'INDUS', 'CHAS', 'NOX', 'RM', 'AGE', 'DIS', 'RAD', 'TAX', 'PTRATIO', 'B', 'LSTAT', 'MEDV']\n",
    "house.head()"
   ]
  },
  {
   "cell_type": "code",
   "execution_count": 8,
   "metadata": {},
   "outputs": [],
   "source": [
    "import xgboost as xgb\n",
    "from sklearn.metrics import mean_squared_error\n",
    "from sklearn.model_selection import train_test_split\n",
    "import pandas as pd\n",
    "import numpy as np"
   ]
  },
  {
   "cell_type": "code",
   "execution_count": 14,
   "metadata": {},
   "outputs": [
    {
     "name": "stdout",
     "output_type": "stream",
     "text": [
      "RMSE train 2.602, test: 3.725\n"
     ]
    }
   ],
   "source": [
    "X=house.iloc[:,:-1].values\n",
    "y=house['MEDV'].values\n",
    "x_train, x_test, y_train, y_test = train_test_split(X, y, test_size = 0.3, random_state =1)\n",
    "xg_reg =xgb.XGBRegressor(objective ='reg:squarederror', booster='gbtree', colsample_bytree= 0.75, learning_rate = 0.1, max_depth=5, alpha = 10, n_estimators= 30)\n",
    "xg_reg.fit(x_train, y_train)\n",
    "pred_train = xg_reg.predict(x_train)\n",
    "pred_test = xg_reg.predict(x_test)\n",
    "rmse_train =np.sqrt(mean_squared_error(y_train, pred_train))\n",
    "rmse_test = np.sqrt(mean_squared_error(y_test, pred_test))\n",
    "print('RMSE train %0.3f, test: %0.3f' %(rmse_train, rmse_test))"
   ]
  },
  {
   "cell_type": "markdown",
   "metadata": {},
   "source": [
    "함수인자 설명\n",
    "===========\n",
    "1.objectvie(손실함수)\n",
    " ---\n",
    "->회귀: reg:squarederror가 default  \n",
    "->이항분류: binary:losgistic  \n",
    "->다항분류: multi:softmax or multi:softprob  \n",
    "\n",
    "2.booster 추정에 사용할 모델\n",
    " ---\n",
    " \n",
    "->gblinear 선형모형  \n",
    "->gbtree 의사결정나무  \n",
    "->dart 의사결정나무  \n",
    "\n",
    "3.colsamplebytree(특성변수 사용량 결정 %단위)\n",
    " ---\n",
    "->overfitting 방지\n",
    "\n",
    "4.learning_rate(학습률)\n",
    " ---\n",
    "5.max_depth(의사결정나무의 깊이 지정)\n",
    " ---\n",
    "6.alpha (L1 regularization)\n",
    " ---\n",
    "7.lambda(L2 regularization)\n",
    " ---\n",
    "8.n_estimators(의사결정나무 사용갯수)\n",
    " ---"
   ]
  },
  {
   "cell_type": "markdown",
   "metadata": {},
   "source": [
    "LightGBM -2017/1\n",
    "=========="
   ]
  },
  {
   "cell_type": "markdown",
   "metadata": {},
   "source": [
    "1.LightGBM의 장점\n",
    "  -\n",
    "  1)level_wise가 아닌 leaf-wise growth 이용  \n",
    "   ![트리예시](Model_explain.jfif)  \n",
    " 2)GOSS(Gradient-based One-Side Sampling) 사용   \n",
    "   ->기울기가 큰 데이터 개체가 정보 획득에 있어 더욱 큰 역할을 한다는 아이디어에 입각해 만들어진 테크닉이다. 큰 기울기를 갖는 개체들은 유지되며, 작은 기울기  를 갖는 데이터 개체들은 일정 확률에 의해 랜덤하게 제거된다.  \n",
    " 3)Exclusive feature building 사용ure building 사용\n",
    "   희소행렬 사용시 column이 많아지는 결과가 나오게 되는데 이에 따른 훈련 시간이 오래걸리는 점이 있으므로 이를 위해 사용되는 차원축소 방식. 실수형 데이터에도    사용 가능.  \n",
    "   **예시-> x1(0 부터 10), x2(0 부터 20)인 상태에서 만약 두 값이 동시에 0보다 큰 값을 가진 경우가 거의 없을 경우 0~30의 값을 가지는 새로운 칼럼 x3를 형성하는 방식으로 차원 축소** "
   ]
  },
  {
   "cell_type": "markdown",
   "metadata": {},
   "source": [
    "CatBoost -2017/4\n",
    "=========="
   ]
  },
  {
   "cell_type": "markdown",
   "metadata": {},
   "source": [
    "1. CatBoost가 가지는 차이점\n",
    "   -\n",
    "1)표본의 잔차를 보두 다른 모형으로부터 구함.  \n",
    "2)범주형 데이터 변환으로 사용하는 one-hot label 대신 ordered target statistic 사용  \n",
    "3)feature combination 자동 생성"
   ]
  },
  {
   "cell_type": "markdown",
   "metadata": {},
   "source": [
    "| id | 시간 | x1 | y | y1 | y2\n",
    "|:---:|:---:|:---:|:---:|:---:|:---|\n",
    "|1|0|sunny|38|1|A|\n",
    "|2|1|sunny|35|0|B|\n",
    "|3|2|cloudy|20|1|C|\n",
    "|4|3|cloudy|22|0|C|\n",
    "|5|4|cloudy|21|1|B|\n",
    "|6|5|sunny|33|1|A|\n",
    "|7|6|cloudy|18|1|B|"
   ]
  },
  {
   "cell_type": "markdown",
   "metadata": {},
   "source": [
    "1.잔차를 구하기 전 행해지는 것\n",
    "   -  \n",
    "1)random permutation에 의한 자료 뒤섞기\n",
    "2)시간 column 자동 생성\n",
    "\n",
    "2.ordered target statistic 적용방법\n",
    "  -\n",
    "  1)타겟값이 실수형인 경우\n",
    "    ->해당 시간이전에 같은 레이블이 나타난 데이터의 타겟값의 합/같은 레이블의 수 (0/0 꼴 방지를 위해 분모에는 1을 더해주고 분자에는 target의 평균을 더해줌)\n",
    "  2)타겟값이 이항분류인 경우\n",
    "    ->실수형과 동일\n",
    "  3)타겟값의 클래스가 여러개일 경우\n",
    "    ->3개의 특성값을 가지는 feature로 변환"
   ]
  },
  {
   "cell_type": "code",
   "execution_count": null,
   "metadata": {},
   "outputs": [],
   "source": []
  }
 ],
 "metadata": {
  "kernelspec": {
   "display_name": "Python 3",
   "language": "python",
   "name": "python3"
  },
  "language_info": {
   "codemirror_mode": {
    "name": "ipython",
    "version": 3
   },
   "file_extension": ".py",
   "mimetype": "text/x-python",
   "name": "python",
   "nbconvert_exporter": "python",
   "pygments_lexer": "ipython3",
   "version": "3.8.3"
  }
 },
 "nbformat": 4,
 "nbformat_minor": 4
}
