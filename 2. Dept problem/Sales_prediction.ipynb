{
 "cells": [
  {
   "cell_type": "code",
   "execution_count": 1,
   "metadata": {},
   "outputs": [],
   "source": [
    "#importing libraries that needed.\n",
    "from datetime import datetime, timedelta\n",
    "from sklearn.linear_model import LinearRegression\n",
    "import numpy as np\n",
    "import pandas as pd\n",
    "import matplotlib.pyplot as plt\n",
    "%matplotlib inline\n",
    "import seaborn; seaborn.set()\n",
    "import warnings\n",
    "warnings.filterwarnings(action='ignore')"
   ]
  },
  {
   "cell_type": "code",
   "execution_count": 2,
   "metadata": {},
   "outputs": [],
   "source": [
    "#import files data\n",
    "Raw = pd.read_csv(\"train.csv\") #data shape 3362796 x 8\n",
    "test_raw = pd.read_csv(\"test.csv\")\n",
    "submit=pd.read_csv(\"submission.csv\")"
   ]
  },
  {
   "cell_type": "code",
   "execution_count": 3,
   "metadata": {},
   "outputs": [
    {
     "data": {
      "text/html": [
       "<div>\n",
       "<style scoped>\n",
       "    .dataframe tbody tr th:only-of-type {\n",
       "        vertical-align: middle;\n",
       "    }\n",
       "\n",
       "    .dataframe tbody tr th {\n",
       "        vertical-align: top;\n",
       "    }\n",
       "\n",
       "    .dataframe thead th {\n",
       "        text-align: right;\n",
       "    }\n",
       "</style>\n",
       "<table border=\"1\" class=\"dataframe\">\n",
       "  <thead>\n",
       "    <tr style=\"text-align: right;\">\n",
       "      <th></th>\n",
       "      <th>store_id</th>\n",
       "      <th>date</th>\n",
       "      <th>time</th>\n",
       "      <th>card_id</th>\n",
       "      <th>amount</th>\n",
       "      <th>installments</th>\n",
       "      <th>days_of_week</th>\n",
       "      <th>holyday</th>\n",
       "    </tr>\n",
       "  </thead>\n",
       "  <tbody>\n",
       "    <tr>\n",
       "      <th>0</th>\n",
       "      <td>False</td>\n",
       "      <td>False</td>\n",
       "      <td>False</td>\n",
       "      <td>False</td>\n",
       "      <td>False</td>\n",
       "      <td>True</td>\n",
       "      <td>False</td>\n",
       "      <td>False</td>\n",
       "    </tr>\n",
       "    <tr>\n",
       "      <th>1</th>\n",
       "      <td>False</td>\n",
       "      <td>False</td>\n",
       "      <td>False</td>\n",
       "      <td>False</td>\n",
       "      <td>False</td>\n",
       "      <td>True</td>\n",
       "      <td>False</td>\n",
       "      <td>False</td>\n",
       "    </tr>\n",
       "    <tr>\n",
       "      <th>2</th>\n",
       "      <td>False</td>\n",
       "      <td>False</td>\n",
       "      <td>False</td>\n",
       "      <td>False</td>\n",
       "      <td>False</td>\n",
       "      <td>True</td>\n",
       "      <td>False</td>\n",
       "      <td>False</td>\n",
       "    </tr>\n",
       "    <tr>\n",
       "      <th>3</th>\n",
       "      <td>False</td>\n",
       "      <td>False</td>\n",
       "      <td>False</td>\n",
       "      <td>False</td>\n",
       "      <td>False</td>\n",
       "      <td>True</td>\n",
       "      <td>False</td>\n",
       "      <td>False</td>\n",
       "    </tr>\n",
       "    <tr>\n",
       "      <th>4</th>\n",
       "      <td>False</td>\n",
       "      <td>False</td>\n",
       "      <td>False</td>\n",
       "      <td>False</td>\n",
       "      <td>False</td>\n",
       "      <td>True</td>\n",
       "      <td>False</td>\n",
       "      <td>False</td>\n",
       "    </tr>\n",
       "    <tr>\n",
       "      <th>...</th>\n",
       "      <td>...</td>\n",
       "      <td>...</td>\n",
       "      <td>...</td>\n",
       "      <td>...</td>\n",
       "      <td>...</td>\n",
       "      <td>...</td>\n",
       "      <td>...</td>\n",
       "      <td>...</td>\n",
       "    </tr>\n",
       "    <tr>\n",
       "      <th>3362791</th>\n",
       "      <td>False</td>\n",
       "      <td>False</td>\n",
       "      <td>False</td>\n",
       "      <td>False</td>\n",
       "      <td>False</td>\n",
       "      <td>True</td>\n",
       "      <td>False</td>\n",
       "      <td>False</td>\n",
       "    </tr>\n",
       "    <tr>\n",
       "      <th>3362792</th>\n",
       "      <td>False</td>\n",
       "      <td>False</td>\n",
       "      <td>False</td>\n",
       "      <td>False</td>\n",
       "      <td>False</td>\n",
       "      <td>True</td>\n",
       "      <td>False</td>\n",
       "      <td>False</td>\n",
       "    </tr>\n",
       "    <tr>\n",
       "      <th>3362793</th>\n",
       "      <td>False</td>\n",
       "      <td>False</td>\n",
       "      <td>False</td>\n",
       "      <td>False</td>\n",
       "      <td>False</td>\n",
       "      <td>True</td>\n",
       "      <td>False</td>\n",
       "      <td>False</td>\n",
       "    </tr>\n",
       "    <tr>\n",
       "      <th>3362794</th>\n",
       "      <td>False</td>\n",
       "      <td>False</td>\n",
       "      <td>False</td>\n",
       "      <td>False</td>\n",
       "      <td>False</td>\n",
       "      <td>True</td>\n",
       "      <td>False</td>\n",
       "      <td>False</td>\n",
       "    </tr>\n",
       "    <tr>\n",
       "      <th>3362795</th>\n",
       "      <td>False</td>\n",
       "      <td>False</td>\n",
       "      <td>False</td>\n",
       "      <td>False</td>\n",
       "      <td>False</td>\n",
       "      <td>True</td>\n",
       "      <td>False</td>\n",
       "      <td>False</td>\n",
       "    </tr>\n",
       "  </tbody>\n",
       "</table>\n",
       "<p>3362796 rows × 8 columns</p>\n",
       "</div>"
      ],
      "text/plain": [
       "         store_id   date   time  card_id  amount  installments  days_of_week  \\\n",
       "0           False  False  False    False   False          True         False   \n",
       "1           False  False  False    False   False          True         False   \n",
       "2           False  False  False    False   False          True         False   \n",
       "3           False  False  False    False   False          True         False   \n",
       "4           False  False  False    False   False          True         False   \n",
       "...           ...    ...    ...      ...     ...           ...           ...   \n",
       "3362791     False  False  False    False   False          True         False   \n",
       "3362792     False  False  False    False   False          True         False   \n",
       "3362793     False  False  False    False   False          True         False   \n",
       "3362794     False  False  False    False   False          True         False   \n",
       "3362795     False  False  False    False   False          True         False   \n",
       "\n",
       "         holyday  \n",
       "0          False  \n",
       "1          False  \n",
       "2          False  \n",
       "3          False  \n",
       "4          False  \n",
       "...          ...  \n",
       "3362791    False  \n",
       "3362792    False  \n",
       "3362793    False  \n",
       "3362794    False  \n",
       "3362795    False  \n",
       "\n",
       "[3362796 rows x 8 columns]"
      ]
     },
     "execution_count": 3,
     "metadata": {},
     "output_type": "execute_result"
    }
   ],
   "source": [
    "#data cleaning \n",
    "#1.NaN data finding\n",
    "Raw.isnull()  #Installments have lots of NaN"
   ]
  },
  {
   "cell_type": "code",
   "execution_count": 4,
   "metadata": {},
   "outputs": [
    {
     "name": "stdout",
     "output_type": "stream",
     "text": [
      "         store_id        date      time     card_id  amount  installments  \\\n",
      "0               0  2016-12-14  18:05:31  d297bba73f       5           0.0   \n",
      "1               0  2016-12-14  18:05:54  d297bba73f      -5           0.0   \n",
      "2               0  2016-12-19  12:42:31  0880849c05     144           0.0   \n",
      "3               0  2016-12-19  12:48:08  8b4f9e0e95      66           0.0   \n",
      "4               0  2016-12-19  13:31:08  7ad237eed0      24           0.0   \n",
      "...           ...         ...       ...         ...     ...           ...   \n",
      "3362791      1799  2018-07-19  17:58:31  e254bf70d9     600           0.0   \n",
      "3362792      1799  2018-07-19  18:54:34  8f41c89891     275           0.0   \n",
      "3362793      1799  2018-07-22  14:46:57  aeb64fe1fb     350           0.0   \n",
      "3362794      1799  2018-07-25  18:09:13  57932602d6     300           0.0   \n",
      "3362795      1799  2018-07-30  10:58:53  42d354807a     325           0.0   \n",
      "\n",
      "         days_of_week  holyday  \n",
      "0                   2        0  \n",
      "1                   2        0  \n",
      "2                   0        0  \n",
      "3                   0        0  \n",
      "4                   0        0  \n",
      "...               ...      ...  \n",
      "3362791             3        0  \n",
      "3362792             3        0  \n",
      "3362793             6        0  \n",
      "3362794             2        0  \n",
      "3362795             0        0  \n",
      "\n",
      "[3362796 rows x 8 columns]\n"
     ]
    }
   ],
   "source": [
    "#2.Fill NaN data with 0\n",
    "Raw = Raw.fillna(0)\n",
    "print(Raw)"
   ]
  },
  {
   "cell_type": "code",
   "execution_count": 5,
   "metadata": {},
   "outputs": [
    {
     "name": "stdout",
     "output_type": "stream",
     "text": [
      "[   0    1    2 ... 1797 1798 1799]\n"
     ]
    }
   ],
   "source": [
    "#3.Store store_id data for slicing data for each cases\n",
    "id = Raw['store_id'].unique()\n",
    "print(id)"
   ]
  },
  {
   "cell_type": "code",
   "execution_count": 6,
   "metadata": {},
   "outputs": [
    {
     "name": "stdout",
     "output_type": "stream",
     "text": [
      "       store_id        date      time     card_id  amount  installments  \\\n",
      "0             0  2016-12-14  18:05:31  d297bba73f       5           0.0   \n",
      "1             0  2016-12-14  18:05:54  d297bba73f      -5           0.0   \n",
      "2             0  2016-12-19  12:42:31  0880849c05     144           0.0   \n",
      "3             0  2016-12-19  12:48:08  8b4f9e0e95      66           0.0   \n",
      "4             0  2016-12-19  13:31:08  7ad237eed0      24           0.0   \n",
      "...         ...         ...       ...         ...     ...           ...   \n",
      "68768         0  2018-07-31  23:12:44  b07b89c873      74           0.0   \n",
      "68769         0  2018-07-31  23:16:50  8d4822aa74      97           0.0   \n",
      "68770         0  2018-07-31  23:40:24  f985e806d7      49           0.0   \n",
      "68771         0  2018-07-31  23:55:10  2748138407      29           0.0   \n",
      "68772         0  2018-07-31  23:56:14  de21ab0098      13           0.0   \n",
      "\n",
      "       days_of_week  holyday  \n",
      "0                 2        0  \n",
      "1                 2        0  \n",
      "2                 0        0  \n",
      "3                 0        0  \n",
      "4                 0        0  \n",
      "...             ...      ...  \n",
      "68768             1        0  \n",
      "68769             1        0  \n",
      "68770             1        0  \n",
      "68771             1        0  \n",
      "68772             1        0  \n",
      "\n",
      "[68773 rows x 8 columns]\n"
     ]
    }
   ],
   "source": [
    "#store_id별로 데이터 나누는 함수\n",
    "def sortid(id):\n",
    "    case = Raw.store_id ==id #bool 형식으로 데이터 나누기\n",
    "    store_sales = Raw[case]\n",
    "    return store_sales\n",
    "sales = sortid(0)\n",
    "print(sales)"
   ]
  },
  {
   "cell_type": "code",
   "execution_count": 7,
   "metadata": {},
   "outputs": [
    {
     "name": "stdout",
     "output_type": "stream",
     "text": [
      "store_id          int64\n",
      "date             object\n",
      "time             object\n",
      "card_id          object\n",
      "amount            int64\n",
      "installments    float64\n",
      "days_of_week      int64\n",
      "holyday           int64\n",
      "dtype: object\n",
      "store_id                 int64\n",
      "date                    object\n",
      "time                    object\n",
      "card_id                 object\n",
      "amount                   int64\n",
      "installments           float64\n",
      "days_of_week             int64\n",
      "holyday                  int64\n",
      "payment_time    datetime64[ns]\n",
      "dtype: object\n",
      "payment_time\n",
      "2016-12-14 18:05:31      5\n",
      "2016-12-14 18:05:54     -5\n",
      "2016-12-19 12:42:31    144\n",
      "2016-12-19 12:48:08     66\n",
      "2016-12-19 13:31:08     24\n",
      "                      ... \n",
      "2018-07-31 23:12:44     74\n",
      "2018-07-31 23:16:50     97\n",
      "2018-07-31 23:40:24     49\n",
      "2018-07-31 23:55:10     29\n",
      "2018-07-31 23:56:14     13\n",
      "Name: amount, Length: 68773, dtype: int64\n"
     ]
    }
   ],
   "source": [
    "#4.Transforming Dataframe sturcture\n",
    "print(sales.dtypes)#checking the data types\n",
    "sales['payment_time']=sales.loc[:,'date']+ ' ' +sales.loc[:,'time'] \n",
    "period = sales['date'].unique()\n",
    "sales['payment_time']=pd.to_datetime(sales['payment_time'])\n",
    "print(sales.dtypes)#checking the data types to check \n",
    "train_batch= sales.set_index('payment_time') #changing index\n",
    "train_batch = train_batch.loc[:,('amount')]\n",
    "print(train_batch)"
   ]
  },
  {
   "cell_type": "code",
   "execution_count": 8,
   "metadata": {},
   "outputs": [
    {
     "data": {
      "text/plain": [
       "Text(0, 0.5, 'Amount of Sales')"
      ]
     },
     "execution_count": 8,
     "metadata": {},
     "output_type": "execute_result"
    },
    {
     "data": {
      "image/png": "[encoded data removed]",
      "text/plain": [
       "<Figure size 432x288 with 1 Axes>"
      ]
     },
     "metadata": {},
     "output_type": "display_data"
    }
   ],
   "source": [
    "#Seeing the data for some standards\n",
    "daily = train_batch.resample('D').sum()\n",
    "daily.plot()\n",
    "plt.ylabel(\"Amount of Sales\") #See example of data plot of daily sales."
   ]
  },
  {
   "cell_type": "code",
   "execution_count": 9,
   "metadata": {},
   "outputs": [
    {
     "data": {
      "text/plain": [
       "<matplotlib.axes._subplots.AxesSubplot at 0x1a4fb3b8820>"
      ]
     },
     "execution_count": 9,
     "metadata": {},
     "output_type": "execute_result"
    },
    {
     "data": {
      "image/png": "[encoded data removed]",
      "text/plain": [
       "<Figure size 432x288 with 1 Axes>"
      ]
     },
     "metadata": {},
     "output_type": "display_data"
    }
   ],
   "source": [
    "#See example of mean of sales for each day of the week.\n",
    "weekday=train_batch.groupby(train_batch.index.dayofweek).mean()\n",
    "weekday.index= ['Mon', 'Tue','Wed','Thu', 'Fri', 'Sat', 'Sun']\n",
    "weekday.plot()"
   ]
  },
  {
   "cell_type": "code",
   "execution_count": 10,
   "metadata": {},
   "outputs": [
    {
     "data": {
      "text/plain": [
       "<matplotlib.axes._subplots.AxesSubplot at 0x1a4fe43b700>"
      ]
     },
     "execution_count": 10,
     "metadata": {},
     "output_type": "execute_result"
    },
    {
     "data": {
      "image/png": "[encoded data removed]",
      "text/plain": [
       "<Figure size 1008x360 with 2 Axes>"
      ]
     },
     "metadata": {},
     "output_type": "display_data"
    }
   ],
   "source": [
    "#See each times sales of weeekdays and weekends\n",
    "happy_day= np.where(train_batch.index.weekday < 5, 'Weekday', 'Weekend')\n",
    "by_time = train_batch.groupby([happy_day, train_batch.index.time]).mean()\n",
    "fig, ax = plt.subplots(1,2, figsize=(14,5))\n",
    "hourly_ticks= 4*60*60*np.arange(6)\n",
    "by_time.loc['Weekday'].plot(ax=ax[0], title='Weekdays',xticks=hourly_ticks)\n",
    "by_time.loc['Weekend'].plot(ax=ax[1], title='Weekends',xticks=hourly_ticks)"
   ]
  },
  {
   "cell_type": "code",
   "execution_count": 11,
   "metadata": {},
   "outputs": [
    {
     "name": "stdout",
     "output_type": "stream",
     "text": [
      "payment_time\n",
      "2016-12-14        0\n",
      "2016-12-15        0\n",
      "2016-12-16        0\n",
      "2016-12-17        0\n",
      "2016-12-18        0\n",
      "              ...  \n",
      "2018-07-27     7668\n",
      "2018-07-28     8404\n",
      "2018-07-29    11067\n",
      "2018-07-30     8210\n",
      "2018-07-31     9116\n",
      "Freq: D, Name: amount, Length: 595, dtype: int64\n"
     ]
    }
   ],
   "source": [
    "train_batch = train_batch.resample('d').sum()\n",
    "print(train_batch)"
   ]
  },
  {
   "cell_type": "code",
   "execution_count": 12,
   "metadata": {},
   "outputs": [
    {
     "name": "stdout",
     "output_type": "stream",
     "text": [
      "              amount  Mon  Tue  Wed  Thu  Fri  Sat  Sun\n",
      "payment_time                                           \n",
      "2016-12-14         0    0    0    1    0    0    0    0\n",
      "2016-12-15         0    0    0    0    1    0    0    0\n",
      "2016-12-16         0    0    0    0    0    1    0    0\n",
      "2016-12-17         0    0    0    0    0    0    1    0\n",
      "2016-12-18         0    0    0    0    0    0    0    1\n",
      "...              ...  ...  ...  ...  ...  ...  ...  ...\n",
      "2018-07-27      7668    0    0    0    0    1    0    0\n",
      "2018-07-28      8404    0    0    0    0    0    1    0\n",
      "2018-07-29     11067    0    0    0    0    0    0    1\n",
      "2018-07-30      8210    1    0    0    0    0    0    0\n",
      "2018-07-31      9116    0    1    0    0    0    0    0\n",
      "\n",
      "[595 rows x 8 columns]\n"
     ]
    }
   ],
   "source": [
    "days = ['Mon', 'Tue','Wed','Thu', 'Fri', 'Sat', 'Sun']\n",
    "train_batch = train_batch.to_frame()\n",
    "total_period=pd.date_range(period[0], period[-1])\n",
    "weekday_produce =pd.DataFrame({'date': total_period})\n",
    "for i in range(7):\n",
    "    train_batch[days[i]]= (weekday_produce['date'].dt.dayofweek ==i).astype(int).values\n",
    "print(train_batch)\n"
   ]
  },
  {
   "cell_type": "code",
   "execution_count": 13,
   "metadata": {},
   "outputs": [
    {
     "data": {
      "text/plain": [
       "LinearRegression(fit_intercept=False)"
      ]
     },
     "execution_count": 13,
     "metadata": {},
     "output_type": "execute_result"
    }
   ],
   "source": [
    "x_train = train_batch[days]\n",
    "y_train = train_batch['amount']\n",
    "model = LinearRegression(fit_intercept = False)\n",
    "model.fit(x_train, y_train)"
   ]
  },
  {
   "cell_type": "code",
   "execution_count": 14,
   "metadata": {},
   "outputs": [],
   "source": [
    "def transform(sales):\n",
    "    sales['payment_time']=sales.loc[:,'date']+ ' ' +sales.loc[:,'time'] \n",
    "    period = sales['date'].unique()\n",
    "    sales['payment_time']=pd.to_datetime(sales['payment_time'])\n",
    "    train_batch= sales.set_index('payment_time') #changing index\n",
    "    train_batch = train_batch.loc[:,('amount')]\n",
    "    train_batch = train_batch.resample('d').sum()\n",
    "    days = ['Mon', 'Tue','Wed','Thu', 'Fri', 'Sat', 'Sun']\n",
    "    train_batch = train_batch.to_frame()\n",
    "    total_period=pd.date_range(period[0], period[-1])\n",
    "    weekday_produce =pd.DataFrame({'date': total_period})\n",
    "    for i in range(7):\n",
    "        train_batch[days[i]]= (weekday_produce['date'].dt.dayofweek ==i).astype(int).values\n",
    "    return train_batch"
   ]
  },
  {
   "cell_type": "code",
   "execution_count": null,
   "metadata": {},
   "outputs": [],
   "source": [
    "for i in id:\n",
    "    sales= sortid(i)\n",
    "    train_batch = transform(sales)\n",
    "    x_train = train_batch[days]\n",
    "    y_train = train_batch['amount']\n",
    "    model = LinearRegression(fit_intercept = False)\n",
    "    model.fit(x_train, y_train)"
   ]
  },
  {
   "cell_type": "code",
   "execution_count": null,
   "metadata": {},
   "outputs": [],
   "source": [
    "test_raw = test_raw.fillna(0)\n",
    "test_id = test_raw['store_id'].unique()\n",
    "result= []\n",
    "for i in test_id:\n",
    "    case = test_raw.store_id == i #bool 형식으로 데이터 나누기\n",
    "    store_sales = test_raw[case]\n",
    "    period = store_sales['date'].unique()\n",
    "    total_period=pd.date_range(period[-1],periods= 100)\n",
    "    test_batch =pd.DataFrame({'date': total_period, 'amount' : 0})\n",
    "    for i in range(7):\n",
    "        test_batch[days[i]]= (test_batch['date'].dt.dayofweek ==i).astype(int).values\n",
    "    test_batch= test_batch.set_index('date') #changing index\n",
    "    test_batch = test_batch[days]\n",
    "   \n",
    "    result.append(model.predict(test_batch).sum())\n",
    "submit['total_sales']= result\n",
    "print(submit)\n",
    "submit['total_sales'].astype(int)"
   ]
  },
  {
   "cell_type": "code",
   "execution_count": null,
   "metadata": {},
   "outputs": [],
   "source": [
    "submit.to_csv('submission.csv', index = False)"
   ]
  },
  {
   "cell_type": "code",
   "execution_count": null,
   "metadata": {},
   "outputs": [],
   "source": []
  }
 ],
 "metadata": {
  "kernelspec": {
   "display_name": "Python 3",
   "language": "python",
   "name": "python3"
  },
  "language_info": {
   "codemirror_mode": {
    "name": "ipython",
    "version": 3
   },
   "file_extension": ".py",
   "mimetype": "text/x-python",
   "name": "python",
   "nbconvert_exporter": "python",
   "pygments_lexer": "ipython3",
   "version": "3.8.3"
  }
 },
 "nbformat": 4,
 "nbformat_minor": 4
}
