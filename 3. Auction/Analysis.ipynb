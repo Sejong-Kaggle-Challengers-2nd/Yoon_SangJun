{
 "cells": [
  {
   "cell_type": "markdown",
   "metadata": {},
   "source": [
    "2등 코드 분석하기~!\n",
    "=="
   ]
  },
  {
   "cell_type": "code",
   "execution_count": 3,
   "metadata": {},
   "outputs": [],
   "source": [
    "from sklearn.ensemble import RandomForestRegressor\n",
    "import numpy as np\n",
    "from sklearn.preprocessing import LabelEncoder\n",
    "from sklearn.preprocessing import OneHotEncoder\n",
    "\n",
    "\n",
    "from sklearn.model_selection import cross_val_score\n",
    "#clf = svm.SVC(kernel='linear', C=1)\n",
    "\n",
    "\n",
    "from scipy.stats import uniform, randint"
   ]
  },
  {
   "cell_type": "markdown",
   "metadata": {},
   "source": [
    "**load_breast_cancer, load_diabetes, load_win 분류와 관련된 데이터셋 로드** "
   ]
  },
  {
   "cell_type": "code",
   "execution_count": 4,
   "metadata": {},
   "outputs": [],
   "source": [
    "from sklearn.datasets import load_breast_cancer, load_diabetes, load_wine \n",
    "from sklearn.metrics import auc, accuracy_score, confusion_matrix, mean_squared_error\n",
    "from sklearn.model_selection import cross_val_score, GridSearchCV, KFold, RandomizedSearchCV, train_test_split"
   ]
  },
  {
   "cell_type": "code",
   "execution_count": 5,
   "metadata": {},
   "outputs": [],
   "source": [
    "import xgboost as xgb\n",
    " \n",
    "import pandas as pd\n",
    "import matplotlib.pyplot as plt\n",
    "import seaborn as sns\n",
    "plt.style.use('fivethirtyeight')\n",
    "import warnings\n",
    "warnings.filterwarnings('ignore')\n",
    "%matplotlib inline\n",
    "from matplotlib import rc, font_manager\n",
    "rc('font',family=\"NanumSquareR\")\n",
    "from datetime import datetime\n",
    "import featuretools as ft\n",
    "from datetime import datetime\n",
    "import os\n",
    "from sklearn.ensemble import RandomForestClassifier\n",
    "from sklearn.linear_model import LinearRegression\n",
    "import scipy.stats as st"
   ]
  },
  {
   "cell_type": "markdown",
   "metadata": {},
   "source": [
    "**데이터셋 가져오기**"
   ]
  },
  {
   "cell_type": "code",
   "execution_count": 6,
   "metadata": {},
   "outputs": [],
   "source": [
    "train=pd.read_csv(\"Auction_master_train_en.csv\")\n",
    "train=train.loc[train['Auction_key']!=10,]\n",
    "test=pd.read_csv(\"Auction_master_test_en.csv\")\n",
    "regist=pd.read_csv(\"Auction_regist_en.csv\")\n",
    "rent=pd.read_csv(\"Auction_rent_en.csv\")\n",
    "result=pd.read_csv(\"Auction_result_en.csv\")"
   ]
  },
  {
   "cell_type": "markdown",
   "metadata": {},
   "source": [
    "**pandas 라이브러리의 corr 내장 매세드 사용해서 상관관계 분석 Method: Pearson**"
   ]
  },
  {
   "cell_type": "code",
   "execution_count": 7,
   "metadata": {},
   "outputs": [
    {
     "data": {
      "text/plain": [
       "Auction_key                   -0.494335\n",
       "point.x                       -0.357186\n",
       "Auction_count                 -0.060598\n",
       "Auction_miscarriage_count     -0.059509\n",
       "Total_land_gross_area          0.094260\n",
       "Claim_price                    0.227550\n",
       "Current_floor                  0.263951\n",
       "Total_floor                    0.288378\n",
       "point.y                        0.357915\n",
       "Total_land_real_area           0.457389\n",
       "Total_land_auction_area        0.470488\n",
       "Total_building_area            0.644298\n",
       "Total_building_auction_area    0.651966\n",
       "Total_appraisal_price          0.976729\n",
       "Minimum_sales_price            0.992170\n",
       "Hammer_price                   1.000000\n",
       "Name: Hammer_price, dtype: float64"
      ]
     },
     "execution_count": 7,
     "metadata": {},
     "output_type": "execute_result"
    }
   ],
   "source": [
    "train.corr()['Hammer_price'].sort_values()"
   ]
  },
  {
   "cell_type": "code",
   "execution_count": 8,
   "metadata": {},
   "outputs": [
    {
     "data": {
      "text/plain": [
       "<matplotlib.collections.PathCollection at 0x2788df8c4c0>"
      ]
     },
     "execution_count": 8,
     "metadata": {},
     "output_type": "execute_result"
    },
    {
     "name": "stderr",
     "output_type": "stream",
     "text": [
      "findfont: Font family ['NanumSquareR'] not found. Falling back to DejaVu Sans.\n"
     ]
    },
    {
     "data": {
      "image/png": "[encoded data removed]",
      "text/plain": [
       "<Figure size 432x288 with 1 Axes>"
      ]
     },
     "metadata": {
      "needs_background": "light"
     },
     "output_type": "display_data"
    }
   ],
   "source": [
    "plt.scatter(train['Minimum_sales_price'],train['Hammer_price'])"
   ]
  },
  {
   "cell_type": "markdown",
   "metadata": {},
   "source": [
    "**1. Corr을 이용한 상관관계 분석에서 Minimum sales price의 값이 Hammer_price의 상관관계가 너무 높아 다른 값들이 무시될 가능성이 우려되어 코드 작성자의 경우 Hammer_price / Minimum_sales_price 로 나누어서 비율에 대한 target 값으로 재설정 (이 과정에서 Hammer_price의 분산도 적어지게 됨.)**"
   ]
  },
  {
   "cell_type": "code",
   "execution_count": 9,
   "metadata": {},
   "outputs": [],
   "source": [
    "train['real']=train['Hammer_price']/train['Minimum_sales_price']\n",
    "test['real']=test['Hammer_price']/test['Minimum_sales_price']"
   ]
  },
  {
   "cell_type": "code",
   "execution_count": 10,
   "metadata": {},
   "outputs": [
    {
     "data": {
      "text/plain": [
       "<matplotlib.axes._subplots.AxesSubplot at 0x2788dfe8d30>"
      ]
     },
     "execution_count": 10,
     "metadata": {},
     "output_type": "execute_result"
    },
    {
     "name": "stderr",
     "output_type": "stream",
     "text": [
      "findfont: Font family ['NanumSquareR'] not found. Falling back to DejaVu Sans.\n"
     ]
    },
    {
     "data": {
      "image/png": "[encoded data removed]",
      "text/plain": [
       "<Figure size 432x288 with 1 Axes>"
      ]
     },
     "metadata": {
      "needs_background": "light"
     },
     "output_type": "display_data"
    }
   ],
   "source": [
    "sns.distplot(train['real']) #histogram 생성"
   ]
  },
  {
   "cell_type": "code",
   "execution_count": 11,
   "metadata": {},
   "outputs": [
    {
     "data": {
      "text/plain": [
       "Auction_key                   -0.062983\n",
       "Current_floor                 -0.055709\n",
       "Total_floor                   -0.051553\n",
       "Minimum_sales_price           -0.042232\n",
       "point.x                       -0.039527\n",
       "Total_land_gross_area          0.006978\n",
       "Total_appraisal_price          0.020108\n",
       "Total_building_area            0.025305\n",
       "Total_building_auction_area    0.027848\n",
       "point.y                        0.038295\n",
       "Total_land_real_area           0.059067\n",
       "Total_land_auction_area        0.060240\n",
       "Claim_price                    0.104271\n",
       "Auction_count                  0.356021\n",
       "Auction_miscarriage_count      0.381825\n",
       "real                           1.000000\n",
       "Name: real, dtype: float64"
      ]
     },
     "execution_count": 11,
     "metadata": {},
     "output_type": "execute_result"
    }
   ],
   "source": [
    "train.drop(['Hammer_price'],axis=1).corr()['real'].sort_values()"
   ]
  },
  {
   "cell_type": "markdown",
   "metadata": {},
   "source": [
    "**ratio에 대한 값으로 변경결과 상관관계가 매우 큰 값이 적어진 것을 볼 수 있음**"
   ]
  },
  {
   "cell_type": "markdown",
   "metadata": {},
   "source": [
    "**2.건물 위치에 따른 hammer_price/Minimum_sales_price의 ratio heatmap만들기**"
   ]
  },
  {
   "cell_type": "code",
   "execution_count": 20,
   "metadata": {},
   "outputs": [
    {
     "data": {
      "text/html": [
       "<div>\n",
       "<style scoped>\n",
       "    .dataframe tbody tr th:only-of-type {\n",
       "        vertical-align: middle;\n",
       "    }\n",
       "\n",
       "    .dataframe tbody tr th {\n",
       "        vertical-align: top;\n",
       "    }\n",
       "\n",
       "    .dataframe thead th {\n",
       "        text-align: right;\n",
       "    }\n",
       "</style>\n",
       "<table border=\"1\" class=\"dataframe\">\n",
       "  <thead>\n",
       "    <tr style=\"text-align: right;\">\n",
       "      <th></th>\n",
       "      <th>x</th>\n",
       "      <th>y</th>\n",
       "      <th>count</th>\n",
       "      <th>real</th>\n",
       "    </tr>\n",
       "  </thead>\n",
       "  <tbody>\n",
       "    <tr>\n",
       "      <th>0</th>\n",
       "      <td>(126.807, 126.834]</td>\n",
       "      <td>(35.049, 35.078]</td>\n",
       "      <td>0</td>\n",
       "      <td>NaN</td>\n",
       "    </tr>\n",
       "    <tr>\n",
       "      <th>1</th>\n",
       "      <td>(126.807, 126.834]</td>\n",
       "      <td>(35.078, 35.104]</td>\n",
       "      <td>0</td>\n",
       "      <td>NaN</td>\n",
       "    </tr>\n",
       "    <tr>\n",
       "      <th>2</th>\n",
       "      <td>(126.807, 126.834]</td>\n",
       "      <td>(35.104, 35.13]</td>\n",
       "      <td>0</td>\n",
       "      <td>NaN</td>\n",
       "    </tr>\n",
       "    <tr>\n",
       "      <th>3</th>\n",
       "      <td>(126.807, 126.834]</td>\n",
       "      <td>(35.13, 35.157]</td>\n",
       "      <td>0</td>\n",
       "      <td>NaN</td>\n",
       "    </tr>\n",
       "    <tr>\n",
       "      <th>4</th>\n",
       "      <td>(126.807, 126.834]</td>\n",
       "      <td>(35.157, 35.183]</td>\n",
       "      <td>0</td>\n",
       "      <td>NaN</td>\n",
       "    </tr>\n",
       "    <tr>\n",
       "      <th>...</th>\n",
       "      <td>...</td>\n",
       "      <td>...</td>\n",
       "      <td>...</td>\n",
       "      <td>...</td>\n",
       "    </tr>\n",
       "    <tr>\n",
       "      <th>9995</th>\n",
       "      <td>(129.231, 129.256]</td>\n",
       "      <td>(37.554, 37.58]</td>\n",
       "      <td>0</td>\n",
       "      <td>NaN</td>\n",
       "    </tr>\n",
       "    <tr>\n",
       "      <th>9996</th>\n",
       "      <td>(129.231, 129.256]</td>\n",
       "      <td>(37.58, 37.607]</td>\n",
       "      <td>0</td>\n",
       "      <td>NaN</td>\n",
       "    </tr>\n",
       "    <tr>\n",
       "      <th>9997</th>\n",
       "      <td>(129.231, 129.256]</td>\n",
       "      <td>(37.607, 37.633]</td>\n",
       "      <td>0</td>\n",
       "      <td>NaN</td>\n",
       "    </tr>\n",
       "    <tr>\n",
       "      <th>9998</th>\n",
       "      <td>(129.231, 129.256]</td>\n",
       "      <td>(37.633, 37.659]</td>\n",
       "      <td>0</td>\n",
       "      <td>NaN</td>\n",
       "    </tr>\n",
       "    <tr>\n",
       "      <th>9999</th>\n",
       "      <td>(129.231, 129.256]</td>\n",
       "      <td>(37.659, 37.686]</td>\n",
       "      <td>0</td>\n",
       "      <td>NaN</td>\n",
       "    </tr>\n",
       "  </tbody>\n",
       "</table>\n",
       "<p>10000 rows × 4 columns</p>\n",
       "</div>"
      ],
      "text/plain": [
       "                       x                 y  count  real\n",
       "0     (126.807, 126.834]  (35.049, 35.078]      0   NaN\n",
       "1     (126.807, 126.834]  (35.078, 35.104]      0   NaN\n",
       "2     (126.807, 126.834]   (35.104, 35.13]      0   NaN\n",
       "3     (126.807, 126.834]   (35.13, 35.157]      0   NaN\n",
       "4     (126.807, 126.834]  (35.157, 35.183]      0   NaN\n",
       "...                  ...               ...    ...   ...\n",
       "9995  (129.231, 129.256]   (37.554, 37.58]      0   NaN\n",
       "9996  (129.231, 129.256]   (37.58, 37.607]      0   NaN\n",
       "9997  (129.231, 129.256]  (37.607, 37.633]      0   NaN\n",
       "9998  (129.231, 129.256]  (37.633, 37.659]      0   NaN\n",
       "9999  (129.231, 129.256]  (37.659, 37.686]      0   NaN\n",
       "\n",
       "[10000 rows x 4 columns]"
      ]
     },
     "execution_count": 20,
     "metadata": {},
     "output_type": "execute_result"
    }
   ],
   "source": [
    "cop=train.copy()\n",
    "cop['x']=pd.cut(train['point.x'],100) #100개의 동일한 크기의 bin 생성\n",
    "cop['y']=pd.cut(train['point.y'],100)\n",
    "cop1=cop.groupby(['x','y']).size().reset_index(name='count')\n",
    "cop2=cop.groupby(['x','y'])['real'].mean().reset_index(name='real')\n",
    "cop=pd.merge(cop1,cop2,on=['x','y'],how='left') #10000 x 4\n",
    "cop"
   ]
  },
  {
   "cell_type": "code",
   "execution_count": 21,
   "metadata": {},
   "outputs": [
    {
     "data": {
      "text/html": [
       "<div>\n",
       "<style scoped>\n",
       "    .dataframe tbody tr th:only-of-type {\n",
       "        vertical-align: middle;\n",
       "    }\n",
       "\n",
       "    .dataframe tbody tr th {\n",
       "        vertical-align: top;\n",
       "    }\n",
       "\n",
       "    .dataframe thead th {\n",
       "        text-align: right;\n",
       "    }\n",
       "</style>\n",
       "<table border=\"1\" class=\"dataframe\">\n",
       "  <thead>\n",
       "    <tr style=\"text-align: right;\">\n",
       "      <th></th>\n",
       "      <th>x</th>\n",
       "      <th>y</th>\n",
       "      <th>count</th>\n",
       "      <th>real</th>\n",
       "    </tr>\n",
       "  </thead>\n",
       "  <tbody>\n",
       "    <tr>\n",
       "      <th>95</th>\n",
       "      <td>(126.807, 126.834]</td>\n",
       "      <td>(37.554, 37.58]</td>\n",
       "      <td>11</td>\n",
       "      <td>1.106657</td>\n",
       "    </tr>\n",
       "    <tr>\n",
       "      <th>193</th>\n",
       "      <td>(126.834, 126.858]</td>\n",
       "      <td>(37.501, 37.528]</td>\n",
       "      <td>22</td>\n",
       "      <td>1.138617</td>\n",
       "    </tr>\n",
       "    <tr>\n",
       "      <th>194</th>\n",
       "      <td>(126.834, 126.858]</td>\n",
       "      <td>(37.528, 37.554]</td>\n",
       "      <td>23</td>\n",
       "      <td>1.138008</td>\n",
       "    </tr>\n",
       "    <tr>\n",
       "      <th>195</th>\n",
       "      <td>(126.834, 126.858]</td>\n",
       "      <td>(37.554, 37.58]</td>\n",
       "      <td>12</td>\n",
       "      <td>1.149220</td>\n",
       "    </tr>\n",
       "    <tr>\n",
       "      <th>292</th>\n",
       "      <td>(126.858, 126.883]</td>\n",
       "      <td>(37.475, 37.501]</td>\n",
       "      <td>11</td>\n",
       "      <td>1.136653</td>\n",
       "    </tr>\n",
       "    <tr>\n",
       "      <th>...</th>\n",
       "      <td>...</td>\n",
       "      <td>...</td>\n",
       "      <td>...</td>\n",
       "      <td>...</td>\n",
       "    </tr>\n",
       "    <tr>\n",
       "      <th>9404</th>\n",
       "      <td>(129.109, 129.134]</td>\n",
       "      <td>(35.157, 35.183]</td>\n",
       "      <td>25</td>\n",
       "      <td>1.170872</td>\n",
       "    </tr>\n",
       "    <tr>\n",
       "      <th>9405</th>\n",
       "      <td>(129.109, 129.134]</td>\n",
       "      <td>(35.183, 35.209]</td>\n",
       "      <td>30</td>\n",
       "      <td>1.180296</td>\n",
       "    </tr>\n",
       "    <tr>\n",
       "      <th>9503</th>\n",
       "      <td>(129.134, 129.158]</td>\n",
       "      <td>(35.13, 35.157]</td>\n",
       "      <td>10</td>\n",
       "      <td>1.085319</td>\n",
       "    </tr>\n",
       "    <tr>\n",
       "      <th>9604</th>\n",
       "      <td>(129.158, 129.182]</td>\n",
       "      <td>(35.157, 35.183]</td>\n",
       "      <td>22</td>\n",
       "      <td>1.125366</td>\n",
       "    </tr>\n",
       "    <tr>\n",
       "      <th>9610</th>\n",
       "      <td>(129.158, 129.182]</td>\n",
       "      <td>(35.315, 35.341]</td>\n",
       "      <td>13</td>\n",
       "      <td>1.108852</td>\n",
       "    </tr>\n",
       "  </tbody>\n",
       "</table>\n",
       "<p>88 rows × 4 columns</p>\n",
       "</div>"
      ],
      "text/plain": [
       "                       x                 y  count      real\n",
       "95    (126.807, 126.834]   (37.554, 37.58]     11  1.106657\n",
       "193   (126.834, 126.858]  (37.501, 37.528]     22  1.138617\n",
       "194   (126.834, 126.858]  (37.528, 37.554]     23  1.138008\n",
       "195   (126.834, 126.858]   (37.554, 37.58]     12  1.149220\n",
       "292   (126.858, 126.883]  (37.475, 37.501]     11  1.136653\n",
       "...                  ...               ...    ...       ...\n",
       "9404  (129.109, 129.134]  (35.157, 35.183]     25  1.170872\n",
       "9405  (129.109, 129.134]  (35.183, 35.209]     30  1.180296\n",
       "9503  (129.134, 129.158]   (35.13, 35.157]     10  1.085319\n",
       "9604  (129.158, 129.182]  (35.157, 35.183]     22  1.125366\n",
       "9610  (129.158, 129.182]  (35.315, 35.341]     13  1.108852\n",
       "\n",
       "[88 rows x 4 columns]"
      ]
     },
     "execution_count": 21,
     "metadata": {},
     "output_type": "execute_result"
    }
   ],
   "source": [
    "cop=cop.loc[cop['count']>=9] #88 x 4 filtering\n",
    "cop"
   ]
  },
  {
   "cell_type": "code",
   "execution_count": 22,
   "metadata": {},
   "outputs": [
    {
     "data": {
      "image/png": "[encoded data removed]",
      "text/plain": [
       "<Figure size 504x360 with 2 Axes>"
      ]
     },
     "metadata": {
      "needs_background": "light"
     },
     "output_type": "display_data"
    }
   ],
   "source": [
    "area = cop.pivot(\"y\", \"x\", \"real\")\n",
    "plt.subplots(1, 1, figsize=(7, 5))\n",
    "plt.title(\"real by area\")\n",
    "sns.heatmap(area, annot=False, xticklabels=False,yticklabels=False,cmap=\"Blues\")\n",
    "plt.show()"
   ]
  },
  {
   "cell_type": "markdown",
   "metadata": {},
   "source": [
    "**3.시계열데이터 처리**  \n",
    "1.**daydiff1** =Close_date(종국일자)와 Final_acution_date(최종경매일) 간의 차  \n",
    "2.**daydiff** =Appraisal_date(감정일자) 와 First_auction_date(최초경매일) 간의 차\n",
    "3.**daydiff2** =최초경매일 과 최종경매일 간의 차"
   ]
  },
  {
   "cell_type": "code",
   "execution_count": 24,
   "metadata": {},
   "outputs": [],
   "source": [
    "train['daydiff1']=(pd.to_datetime(train['Close_date'],errors='coerce') - pd.to_datetime(train['Final_auction_date'],errors='coerce')).dt.days\n",
    "train['daydiff1']=np.where(train['daydiff1'].isnull(),train['daydiff1'].mean(),train['daydiff1'])\n",
    "\n",
    "train['daydiff']=(pd.to_datetime(train['First_auction_date'],errors='coerce') - pd.to_datetime(train['Appraisal_date'],errors='coerce')).dt.days\n",
    "\n",
    "train['daydiff']=np.where(train['daydiff'] < 0,train['daydiff'].median(),train['daydiff'])\n",
    "train['daydiff2']=(pd.to_datetime(train['Final_auction_date'],errors='coerce')-pd.to_datetime(train['First_auction_date'],errors='coerce')).dt.days"
   ]
  },
  {
   "cell_type": "code",
   "execution_count": 26,
   "metadata": {},
   "outputs": [],
   "source": [
    "test['daydiff1']=(pd.to_datetime(test['Close_date'],errors='coerce') - pd.to_datetime(test['Final_auction_date'],errors='coerce')).dt.days\n",
    "test['daydiff1']=np.where(test['daydiff1'].isnull(),test['daydiff1'].mean(),test['daydiff1'])\n",
    "\n",
    "test['daydiff']=(pd.to_datetime(test['First_auction_date'],errors='coerce') - pd.to_datetime(test['Appraisal_date'],errors='coerce')).dt.days\n",
    "\n",
    "test['daydiff']=np.where(test['daydiff'] < 0,test['daydiff'].median(),test['daydiff'])\n",
    "test['daydiff2']=(pd.to_datetime(test['Final_auction_date'],errors='coerce') - pd.to_datetime(test['First_auction_date'],errors='coerce')).dt.days"
   ]
  },
  {
   "cell_type": "code",
   "execution_count": 27,
   "metadata": {},
   "outputs": [],
   "source": [
    "#Regist_date을 datetime 형태로 변환\n",
    "regist['Regist_date']=pd.to_datetime(regist['Regist_date'].astype('str').str.slice(0,4)+\"-\"+regist['Regist_date'].astype('str').str.slice(4,6)+\"-\"+regist['Regist_date'].astype('str').str.slice(6,8),errors='coerce')"
   ]
  },
  {
   "cell_type": "code",
   "execution_count": 28,
   "metadata": {},
   "outputs": [],
   "source": [
    "#Auction_date와 Rent_date를 datetime 형태로 변환\n",
    "result['Auction_date']=pd.to_datetime(result['Auction_date'])\n",
    "rent['Rent_date']=pd.to_datetime(rent['Rent_date'],errors='coerce')"
   ]
  },
  {
   "cell_type": "code",
   "execution_count": 32,
   "metadata": {},
   "outputs": [],
   "source": [
    "#regist(등기부등본)에 써져 있는 등기 중 가장 일찍 등기된 것을 고른다 ==&gt; 가장 일찍 등기된 날짜가 건설작업완료 날짜의 추정치이다.\n",
    "#built_date이라는 변수는 건설작업완료 추정 년도를, built_date1는 그 년도가 2000년을 넘기는지 아닌지를 가르키는 변수이다.\n",
    "train['built_date']=train.apply(lambda x: regist.loc[(regist['Auction_key']==x['Auction_key']),\"Regist_date\"].min(),axis=1)\n",
    "train['built_date']=pd.DatetimeIndex(train['built_date']).year\n",
    "train['built_date']=np.where(train['built_date'].isnull(),train['built_date'].median(),train['built_date'])\n",
    "\n",
    "train['built_date1']=train['built_date']<=2000\n",
    "\n",
    "test['built_date']=test.apply(lambda x: regist.loc[(regist['Auction_key']==x['Auction_key']),\"Regist_date\"].min(),axis=1)\n",
    "test['built_date']=pd.DatetimeIndex(test['built_date']).year\n",
    "test['built_date']=np.where(test['built_date'].isnull(),test['built_date'].median(),test['built_date'])\n",
    "\n",
    "test['built_date1']=test['built_date']<=2000"
   ]
  },
  {
   "cell_type": "markdown",
   "metadata": {},
   "source": [
    "**4.비율데이터 만들기**  \n",
    "1.\"falld\" =최저 경매가의 유찰시 낙폭에 따른 비율 함수만들기  \n",
    "2. \"lastup\" =가장 마지막 이전의 최저경매가/총 평가액  "
   ]
  },
  {
   "cell_type": "code",
   "execution_count": 33,
   "metadata": {},
   "outputs": [],
   "source": [
    "train['falld']=(train['Minimum_sales_price']/train['Total_appraisal_price']).round(3)\n",
    "\n",
    "a=pd.Series([0.134,0.168,0.21,0.262,0.328,0.41,0.512,0.64,0.8,1,1])\n",
    "b=pd.Series([0,0.134,0.168,0.21,0.262,0.328,0.41,0.512,0.64,0.8,1,1])\n",
    "\n",
    "train['lastupp']=train.apply(lambda x: a[b==x['falld']].iloc[0],axis=1)\n",
    "\n",
    "\n",
    "test['falld']=(test['Minimum_sales_price']/test['Total_appraisal_price']).round(3)\n",
    "\n",
    "a=pd.Series([0.134,0.168,0.21,0.262,0.328,0.41,0.512,0.64,0.8,1,1])\n",
    "b=pd.Series([0,0.134,0.168,0.21,0.262,0.328,0.41,0.512,0.64,0.8,1,1])\n",
    "\n",
    "test['lastupp']=test.apply(lambda x: a[b==x['falld']].iloc[0],axis=1)\n",
    "\n",
    "train['upp']=train['lastupp']/train['falld']\n",
    "test['upp']=test['lastupp']/test['falld']\n",
    "\n",
    "train['lastupp_p']=train['lastupp']*train['Total_appraisal_price']\n",
    "test['lastupp_p']=test['lastupp']*test['Total_appraisal_price']"
   ]
  },
  {
   "cell_type": "code",
   "execution_count": 34,
   "metadata": {},
   "outputs": [],
   "source": [
    "train['one']=train['Auction_miscarriage_count']==0\n",
    "test['one']=test['Auction_miscarriage_count']==0"
   ]
  },
  {
   "cell_type": "code",
   "execution_count": 35,
   "metadata": {},
   "outputs": [],
   "source": [
    "apartname=pd.Series([\"더샵\",\"자이\",\"아이파크\",\"래미안\",\"힐스테이트\"])"
   ]
  },
  {
   "cell_type": "code",
   "execution_count": 36,
   "metadata": {},
   "outputs": [],
   "source": [
    "def get_apartname(string_val,apartname):\n",
    "    if apartname.apply(lambda x: [x in y for y in [string_val]][0]).sum()>0:\n",
    "        return np.asscalar(apartname.loc[apartname.apply(lambda x: [x in y for y in [string_val]][0])])\n",
    "    else:\n",
    "        return \"other\""
   ]
  },
  {
   "cell_type": "code",
   "execution_count": 38,
   "metadata": {},
   "outputs": [
    {
     "data": {
      "text/plain": [
       "0       other\n",
       "1       other\n",
       "2       other\n",
       "3       other\n",
       "4       other\n",
       "        ...  \n",
       "1928    other\n",
       "1929    other\n",
       "1930    other\n",
       "1931      래미안\n",
       "1932       자이\n",
       "Name: apart, Length: 1932, dtype: object"
      ]
     },
     "execution_count": 38,
     "metadata": {},
     "output_type": "execute_result"
    }
   ],
   "source": [
    "train['apart']=train.apply(lambda x: get_apartname(string_val=x['addr_etc'],apartname=apartname),axis=1)\n",
    "test['apart']=test.apply(lambda x: get_apartname(string_val=x['addr_etc'],apartname=apartname),axis=1)\n",
    "train['apart']"
   ]
  },
  {
   "cell_type": "code",
   "execution_count": 39,
   "metadata": {},
   "outputs": [
    {
     "data": {
      "text/plain": [
       "0    Company or Group\n",
       "1             private\n",
       "dtype: object"
      ]
     },
     "execution_count": 39,
     "metadata": {},
     "output_type": "execute_result"
    }
   ],
   "source": [
    "namecred=pd.Series(train['Creditor'].value_counts().head().index.tolist())\n",
    "namecred"
   ]
  },
  {
   "cell_type": "code",
   "execution_count": 42,
   "metadata": {},
   "outputs": [
    {
     "data": {
      "text/plain": [
       "array(['Company or Group', 'private'], dtype=object)"
      ]
     },
     "execution_count": 42,
     "metadata": {},
     "output_type": "execute_result"
    }
   ],
   "source": [
    "def getcred(string_val,namecred):\n",
    "    if namecred.isin([string_val]).sum() > 0:\n",
    "        return np.asscalar(namecred.loc[namecred.isin([string_val])])\n",
    "    else:\n",
    "        return \"other\"\n",
    "        \n",
    "train['cred']=train.apply(lambda x: getcred(x['Creditor'],namecred=namecred),axis=1)\n",
    "test['cred']=test.apply(lambda x: getcred(x['Creditor'],namecred=namecred),axis=1)\n",
    "train['cred'].unique()"
   ]
  },
  {
   "cell_type": "code",
   "execution_count": 43,
   "metadata": {},
   "outputs": [],
   "source": [
    "#경매에서 권리의 인수여부는 말소기준권리를 기준으로 결정된다.\n",
    "#말소기준권리는 저당,압류, 가압 중에서 가장 먼저 일어난 것이며, 각각의 Auction_key마다 이것을 찾아 malsogijun이라는 데이터프레임을 만들었다.\n",
    "regist['Regist_class']=regist['Regist_class'].astype('str').str.replace(pat=\" \",repl=\"\").astype('str')\n",
    "rent['Rent_class']=rent['Rent_class'].astype('str').str.replace(pat=\" \",repl=\"\").astype('str')\n",
    "rent['Rent_date']=pd.to_datetime(rent['Rent_date'],errors='coerce')\n",
    "malsogijun=regist.loc[pd.Series(regist['Regist_class']).isin([\"저당\",\"압류\",\"가압\"]),].groupby(['Auction_key'])['Regist_date'].min().reset_index()"
   ]
  },
  {
   "cell_type": "code",
   "execution_count": 44,
   "metadata": {},
   "outputs": [],
   "source": [
    "#이 말소기준보다 전에 일어나고 점유하고 있는 임차인(대항력을 가진 임차인)을 찾아 해당 경매의 낙찰자가 인수해야 할 Rent_deposit을 take_over_rent라는 변수에 저장한다\n",
    "def get_rent_malso(Rent_date,Auction_key,Rent_class):\n",
    "    #if pd.isnull(Rent_date) or len((malsogijun.loc[malsogijun['Auction_key']==Auction_key,\"Regist_date\"]))==0:\n",
    "    #    return np.nan\n",
    "    #else:\n",
    "    return (#np.asscalar((Rent_date&lt;malsogijun.loc[malsogijun['Auction_key']==Auction_key,\"Regist_date\"]).values) &\n",
    "                           (Rent_class==\"점유\"))\n",
    "\n",
    "\n",
    "\n",
    "k=rent.apply(lambda x: get_rent_malso(Rent_date=x['Rent_date'],Auction_key=x['Auctiuon_key'],Rent_class=x['Rent_class']),axis=1)\n",
    "\n",
    "rent['k']=k\n",
    "k=rent.loc[rent['k']==True,].groupby(['Auctiuon_key'])['Rent_deposit'].sum().reset_index()\n",
    "k.columns=['Auction_key','take_over_rent']\n",
    "train=pd.merge(train,k,how='left')\n",
    "test=pd.merge(test,k,how='left')\n",
    "\n",
    "train['take_over_rent']=np.where(train['take_over_rent'].isnull(),0,train['take_over_rent'])\n",
    "test['take_over_rent']=np.where(test['take_over_rent'].isnull(),0,test['take_over_rent'])"
   ]
  },
  {
   "cell_type": "code",
   "execution_count": 46,
   "metadata": {},
   "outputs": [],
   "source": [
    "#등기부등본 상에서도 말소기준 권리 이전에 일어난 모든 권리행위의 Regist_price를 더해 take_over_regist라는 변수를 만든다.\n",
    "def get_regist_malso(Regist_date,Auction_key,Regist_class):\n",
    "        if pd.isnull(Regist_date) or len((malsogijun.loc[malsogijun['Auction_key']==Auction_key,\"Regist_date\"]))==0:\n",
    "            return np.nan\n",
    "        else:\n",
    "            return (np.asscalar((Regist_date<malsogijun.loc[malsogijun['Auction_key']==Auction_key,\"Regist_date\"]).values) &\n",
    "                           (pd.Series(Regist_class).isin([\"전세권\",\"임차권\",\"가등기\"])))\n",
    "\n",
    "\n",
    "\n",
    "k=regist.apply(lambda x: get_regist_malso(Regist_date=x['Regist_date'],Auction_key=x['Auction_key'],Regist_class=x['Regist_class']),axis=1)\n",
    "\n",
    "regist['k']=k\n",
    "k=regist.loc[regist['k']==True,].groupby(['Auction_key'])['Regist_price'].sum().reset_index()\n",
    "k.columns=['Auction_key','take_over_regist']\n",
    "train=pd.merge(train,k,how='left')\n",
    "test=pd.merge(test,k,how='left')\n",
    "\n",
    "train['take_over_regist']=np.where(train['take_over_regist'].isnull(),0,train['take_over_regist'])\n",
    "test['take_over_regist']=np.where(test['take_over_regist'].isnull(),0,test['take_over_regist'])"
   ]
  },
  {
   "cell_type": "code",
   "execution_count": 47,
   "metadata": {},
   "outputs": [],
   "source": [
    "train['take_over_sum']=train['take_over_regist']+train['take_over_rent']\n",
    "test['take_over_sum']=test['take_over_regist']+test['take_over_rent']"
   ]
  },
  {
   "cell_type": "code",
   "execution_count": 48,
   "metadata": {},
   "outputs": [],
   "source": [
    "a=regist.apply(lambda x: pd.Series(x['Regist_class']).isin(['전세권','가등기','임차권']),axis=1)\n",
    "a.columns=['a']\n",
    "\n",
    "regist1=regist.loc[a['a'],]\n",
    "\n",
    "def get_badang(Auction_key,a=regist1):\n",
    "    return len(a.loc[a['Auction_key']==Auction_key,])\n",
    "    \n",
    "train['badang']=train.apply(lambda x: get_badang(x['Auction_key'],a=regist1),axis=1)\n",
    "test['badang']=test.apply(lambda x: get_badang(x['Auction_key'],a=regist1),axis=1)"
   ]
  },
  {
   "cell_type": "code",
   "execution_count": 49,
   "metadata": {},
   "outputs": [],
   "source": [
    "train['is_rent']=train.apply(lambda x: pd.Series(x['Auction_key']).isin(list(rent['Auctiuon_key'])),axis=1)\n",
    "test['is_rent']=test.apply(lambda x: pd.Series(x['Auction_key']).isin(list(rent['Auctiuon_key'])),axis=1)\n",
    "train['is_regist']=train.apply(lambda x: pd.Series(x['Auction_key']).isin(list(regist['Auction_key'])),axis=1)\n",
    "test['is_regist']=test.apply(lambda x: pd.Series(x['Auction_key']).isin(list(regist['Auction_key'])),axis=1)"
   ]
  },
  {
   "cell_type": "code",
   "execution_count": 50,
   "metadata": {},
   "outputs": [],
   "source": [
    "#regist나 rent에 대한 정보가 있는 것이 오히려 real값이 적어지는 경향이 있는 것을 알 수 있다.\n",
    "train['floor_rate']=train['Current_floor']/train['Total_floor']\n",
    "test['floor_rate']=test['Current_floor']/test['Total_floor']"
   ]
  },
  {
   "cell_type": "code",
   "execution_count": 52,
   "metadata": {},
   "outputs": [],
   "source": [
    "#해당 방의 층을 아파트의 전체 층으로 나눈 층의 비율을 floor_rate 라는 변수로 만듦.\n",
    "#아파트마다 층이 다르므로, 이를 비교하기위한 normalization 과정이라 할 수 있다.\n",
    "result1=result.loc[result['Auction_results']==\"낙찰\",]\n",
    "\n",
    "a=result1.groupby(['Auction_key'])['Auction_results'].count().reset_index()\n",
    "a['Auction_results']=a['Auction_results']>1\n",
    "a.columns=['Auction_key','is_re']\n",
    "train=pd.merge(train,a,how='left')\n",
    "test=pd.merge(test,a,how='left')"
   ]
  },
  {
   "cell_type": "code",
   "execution_count": 53,
   "metadata": {},
   "outputs": [
    {
     "ename": "FileNotFoundError",
     "evalue": "[Errno 2] No such file or directory: 'seoul_price.csv'",
     "output_type": "error",
     "traceback": [
      "\u001b[1;31m---------------------------------------------------------------------------\u001b[0m",
      "\u001b[1;31mFileNotFoundError\u001b[0m                         Traceback (most recent call last)",
      "\u001b[1;32m<ipython-input-53-fba2bd5e0ef3>\u001b[0m in \u001b[0;36m<module>\u001b[1;34m\u001b[0m\n\u001b[1;32m----> 1\u001b[1;33m \u001b[0mseoul\u001b[0m\u001b[1;33m=\u001b[0m\u001b[0mpd\u001b[0m\u001b[1;33m.\u001b[0m\u001b[0mread_csv\u001b[0m\u001b[1;33m(\u001b[0m\u001b[1;34m\"seoul_price.csv\"\u001b[0m\u001b[1;33m,\u001b[0m\u001b[0mengine\u001b[0m\u001b[1;33m=\u001b[0m\u001b[1;34m\"python\"\u001b[0m\u001b[1;33m)\u001b[0m\u001b[1;33m\u001b[0m\u001b[1;33m\u001b[0m\u001b[0m\n\u001b[0m\u001b[0;32m      2\u001b[0m \u001b[0mbusan\u001b[0m\u001b[1;33m=\u001b[0m\u001b[0mpd\u001b[0m\u001b[1;33m.\u001b[0m\u001b[0mread_csv\u001b[0m\u001b[1;33m(\u001b[0m\u001b[1;34m\"busan_price.csv\"\u001b[0m\u001b[1;33m,\u001b[0m\u001b[0mengine\u001b[0m\u001b[1;33m=\u001b[0m\u001b[1;34m\"python\"\u001b[0m\u001b[1;33m)\u001b[0m\u001b[1;33m\u001b[0m\u001b[1;33m\u001b[0m\u001b[0m\n",
      "\u001b[1;32m~\\anaconda3\\lib\\site-packages\\pandas\\io\\parsers.py\u001b[0m in \u001b[0;36mparser_f\u001b[1;34m(filepath_or_buffer, sep, delimiter, header, names, index_col, usecols, squeeze, prefix, mangle_dupe_cols, dtype, engine, converters, true_values, false_values, skipinitialspace, skiprows, skipfooter, nrows, na_values, keep_default_na, na_filter, verbose, skip_blank_lines, parse_dates, infer_datetime_format, keep_date_col, date_parser, dayfirst, cache_dates, iterator, chunksize, compression, thousands, decimal, lineterminator, quotechar, quoting, doublequote, escapechar, comment, encoding, dialect, error_bad_lines, warn_bad_lines, delim_whitespace, low_memory, memory_map, float_precision)\u001b[0m\n\u001b[0;32m    674\u001b[0m         )\n\u001b[0;32m    675\u001b[0m \u001b[1;33m\u001b[0m\u001b[0m\n\u001b[1;32m--> 676\u001b[1;33m         \u001b[1;32mreturn\u001b[0m \u001b[0m_read\u001b[0m\u001b[1;33m(\u001b[0m\u001b[0mfilepath_or_buffer\u001b[0m\u001b[1;33m,\u001b[0m \u001b[0mkwds\u001b[0m\u001b[1;33m)\u001b[0m\u001b[1;33m\u001b[0m\u001b[1;33m\u001b[0m\u001b[0m\n\u001b[0m\u001b[0;32m    677\u001b[0m \u001b[1;33m\u001b[0m\u001b[0m\n\u001b[0;32m    678\u001b[0m     \u001b[0mparser_f\u001b[0m\u001b[1;33m.\u001b[0m\u001b[0m__name__\u001b[0m \u001b[1;33m=\u001b[0m \u001b[0mname\u001b[0m\u001b[1;33m\u001b[0m\u001b[1;33m\u001b[0m\u001b[0m\n",
      "\u001b[1;32m~\\anaconda3\\lib\\site-packages\\pandas\\io\\parsers.py\u001b[0m in \u001b[0;36m_read\u001b[1;34m(filepath_or_buffer, kwds)\u001b[0m\n\u001b[0;32m    446\u001b[0m \u001b[1;33m\u001b[0m\u001b[0m\n\u001b[0;32m    447\u001b[0m     \u001b[1;31m# Create the parser.\u001b[0m\u001b[1;33m\u001b[0m\u001b[1;33m\u001b[0m\u001b[1;33m\u001b[0m\u001b[0m\n\u001b[1;32m--> 448\u001b[1;33m     \u001b[0mparser\u001b[0m \u001b[1;33m=\u001b[0m \u001b[0mTextFileReader\u001b[0m\u001b[1;33m(\u001b[0m\u001b[0mfp_or_buf\u001b[0m\u001b[1;33m,\u001b[0m \u001b[1;33m**\u001b[0m\u001b[0mkwds\u001b[0m\u001b[1;33m)\u001b[0m\u001b[1;33m\u001b[0m\u001b[1;33m\u001b[0m\u001b[0m\n\u001b[0m\u001b[0;32m    449\u001b[0m \u001b[1;33m\u001b[0m\u001b[0m\n\u001b[0;32m    450\u001b[0m     \u001b[1;32mif\u001b[0m \u001b[0mchunksize\u001b[0m \u001b[1;32mor\u001b[0m \u001b[0miterator\u001b[0m\u001b[1;33m:\u001b[0m\u001b[1;33m\u001b[0m\u001b[1;33m\u001b[0m\u001b[0m\n",
      "\u001b[1;32m~\\anaconda3\\lib\\site-packages\\pandas\\io\\parsers.py\u001b[0m in \u001b[0;36m__init__\u001b[1;34m(self, f, engine, **kwds)\u001b[0m\n\u001b[0;32m    878\u001b[0m             \u001b[0mself\u001b[0m\u001b[1;33m.\u001b[0m\u001b[0moptions\u001b[0m\u001b[1;33m[\u001b[0m\u001b[1;34m\"has_index_names\"\u001b[0m\u001b[1;33m]\u001b[0m \u001b[1;33m=\u001b[0m \u001b[0mkwds\u001b[0m\u001b[1;33m[\u001b[0m\u001b[1;34m\"has_index_names\"\u001b[0m\u001b[1;33m]\u001b[0m\u001b[1;33m\u001b[0m\u001b[1;33m\u001b[0m\u001b[0m\n\u001b[0;32m    879\u001b[0m \u001b[1;33m\u001b[0m\u001b[0m\n\u001b[1;32m--> 880\u001b[1;33m         \u001b[0mself\u001b[0m\u001b[1;33m.\u001b[0m\u001b[0m_make_engine\u001b[0m\u001b[1;33m(\u001b[0m\u001b[0mself\u001b[0m\u001b[1;33m.\u001b[0m\u001b[0mengine\u001b[0m\u001b[1;33m)\u001b[0m\u001b[1;33m\u001b[0m\u001b[1;33m\u001b[0m\u001b[0m\n\u001b[0m\u001b[0;32m    881\u001b[0m \u001b[1;33m\u001b[0m\u001b[0m\n\u001b[0;32m    882\u001b[0m     \u001b[1;32mdef\u001b[0m \u001b[0mclose\u001b[0m\u001b[1;33m(\u001b[0m\u001b[0mself\u001b[0m\u001b[1;33m)\u001b[0m\u001b[1;33m:\u001b[0m\u001b[1;33m\u001b[0m\u001b[1;33m\u001b[0m\u001b[0m\n",
      "\u001b[1;32m~\\anaconda3\\lib\\site-packages\\pandas\\io\\parsers.py\u001b[0m in \u001b[0;36m_make_engine\u001b[1;34m(self, engine)\u001b[0m\n\u001b[0;32m   1124\u001b[0m                     \u001b[1;34m'\"python-fwf\")'\u001b[0m\u001b[1;33m\u001b[0m\u001b[1;33m\u001b[0m\u001b[0m\n\u001b[0;32m   1125\u001b[0m                 )\n\u001b[1;32m-> 1126\u001b[1;33m             \u001b[0mself\u001b[0m\u001b[1;33m.\u001b[0m\u001b[0m_engine\u001b[0m \u001b[1;33m=\u001b[0m \u001b[0mklass\u001b[0m\u001b[1;33m(\u001b[0m\u001b[0mself\u001b[0m\u001b[1;33m.\u001b[0m\u001b[0mf\u001b[0m\u001b[1;33m,\u001b[0m \u001b[1;33m**\u001b[0m\u001b[0mself\u001b[0m\u001b[1;33m.\u001b[0m\u001b[0moptions\u001b[0m\u001b[1;33m)\u001b[0m\u001b[1;33m\u001b[0m\u001b[1;33m\u001b[0m\u001b[0m\n\u001b[0m\u001b[0;32m   1127\u001b[0m \u001b[1;33m\u001b[0m\u001b[0m\n\u001b[0;32m   1128\u001b[0m     \u001b[1;32mdef\u001b[0m \u001b[0m_failover_to_python\u001b[0m\u001b[1;33m(\u001b[0m\u001b[0mself\u001b[0m\u001b[1;33m)\u001b[0m\u001b[1;33m:\u001b[0m\u001b[1;33m\u001b[0m\u001b[1;33m\u001b[0m\u001b[0m\n",
      "\u001b[1;32m~\\anaconda3\\lib\\site-packages\\pandas\\io\\parsers.py\u001b[0m in \u001b[0;36m__init__\u001b[1;34m(self, f, **kwds)\u001b[0m\n\u001b[0;32m   2262\u001b[0m         \u001b[0mself\u001b[0m\u001b[1;33m.\u001b[0m\u001b[0m_comment_lines\u001b[0m \u001b[1;33m=\u001b[0m \u001b[1;33m[\u001b[0m\u001b[1;33m]\u001b[0m\u001b[1;33m\u001b[0m\u001b[1;33m\u001b[0m\u001b[0m\n\u001b[0;32m   2263\u001b[0m \u001b[1;33m\u001b[0m\u001b[0m\n\u001b[1;32m-> 2264\u001b[1;33m         f, handles = get_handle(\n\u001b[0m\u001b[0;32m   2265\u001b[0m             \u001b[0mf\u001b[0m\u001b[1;33m,\u001b[0m\u001b[1;33m\u001b[0m\u001b[1;33m\u001b[0m\u001b[0m\n\u001b[0;32m   2266\u001b[0m             \u001b[1;34m\"r\"\u001b[0m\u001b[1;33m,\u001b[0m\u001b[1;33m\u001b[0m\u001b[1;33m\u001b[0m\u001b[0m\n",
      "\u001b[1;32m~\\anaconda3\\lib\\site-packages\\pandas\\io\\common.py\u001b[0m in \u001b[0;36mget_handle\u001b[1;34m(path_or_buf, mode, encoding, compression, memory_map, is_text)\u001b[0m\n\u001b[0;32m    429\u001b[0m         \u001b[1;32melif\u001b[0m \u001b[0mis_text\u001b[0m\u001b[1;33m:\u001b[0m\u001b[1;33m\u001b[0m\u001b[1;33m\u001b[0m\u001b[0m\n\u001b[0;32m    430\u001b[0m             \u001b[1;31m# No explicit encoding\u001b[0m\u001b[1;33m\u001b[0m\u001b[1;33m\u001b[0m\u001b[1;33m\u001b[0m\u001b[0m\n\u001b[1;32m--> 431\u001b[1;33m             \u001b[0mf\u001b[0m \u001b[1;33m=\u001b[0m \u001b[0mopen\u001b[0m\u001b[1;33m(\u001b[0m\u001b[0mpath_or_buf\u001b[0m\u001b[1;33m,\u001b[0m \u001b[0mmode\u001b[0m\u001b[1;33m,\u001b[0m \u001b[0merrors\u001b[0m\u001b[1;33m=\u001b[0m\u001b[1;34m\"replace\"\u001b[0m\u001b[1;33m,\u001b[0m \u001b[0mnewline\u001b[0m\u001b[1;33m=\u001b[0m\u001b[1;34m\"\"\u001b[0m\u001b[1;33m)\u001b[0m\u001b[1;33m\u001b[0m\u001b[1;33m\u001b[0m\u001b[0m\n\u001b[0m\u001b[0;32m    432\u001b[0m         \u001b[1;32melse\u001b[0m\u001b[1;33m:\u001b[0m\u001b[1;33m\u001b[0m\u001b[1;33m\u001b[0m\u001b[0m\n\u001b[0;32m    433\u001b[0m             \u001b[1;31m# Binary mode\u001b[0m\u001b[1;33m\u001b[0m\u001b[1;33m\u001b[0m\u001b[1;33m\u001b[0m\u001b[0m\n",
      "\u001b[1;31mFileNotFoundError\u001b[0m: [Errno 2] No such file or directory: 'seoul_price.csv'"
     ]
    }
   ],
   "source": [
    "seoul=pd.read_csv(\"seoul_price.csv\",engine=\"python\")\n",
    "busan=pd.read_csv(\"busan_price.csv\",engine=\"python\")"
   ]
  },
  {
   "cell_type": "code",
   "execution_count": null,
   "metadata": {},
   "outputs": [],
   "source": [
    "#seoul과 busan의 Unnamed: 0이라는 column을 datetime 형태로 바꾸는 작업을 한다.\n",
    "\n",
    "seoul['Unnamed: 0']=seoul['Unnamed: 0'].astype('str').str.replace(pat=\"'\",repl=\"\")\n",
    "seoul['Unnamed: 0']=seoul['Unnamed: 0'].astype('str').str.replace(pat=\"\\\\.\",repl=\"-\")\n",
    "seoul['Unnamed: 0']=\"20\"+seoul['Unnamed: 0']+\"-01\"\n",
    "seoul['Unnamed: 0']=pd.to_datetime(seoul['Unnamed: 0'])\n",
    "\n",
    "busan['Unnamed: 0']=busan['Unnamed: 0'].astype('str').str.replace(pat=\"'\",repl=\"\")\n",
    "busan['Unnamed: 0']=busan['Unnamed: 0'].astype('str').str.replace(pat=\"\\\\.\",repl=\"-\")\n",
    "busan['Unnamed: 0']=\"20\"+busan['Unnamed: 0']+\"-01\"\n",
    "busan['Unnamed: 0']=pd.to_datetime(busan['Unnamed: 0'])"
   ]
  },
  {
   "cell_type": "code",
   "execution_count": null,
   "metadata": {},
   "outputs": [],
   "source": [
    "def get_expectp1(x,data):\n",
    "    y=pd.DatetimeIndex(data['Appraisal_date']).year[x]\n",
    "    m=pd.DatetimeIndex(data['Appraisal_date']).month[x]\n",
    "    y1=pd.DatetimeIndex(data['Final_auction_date']).year[x]\n",
    "    m1=pd.DatetimeIndex(data['Final_auction_date']).month[x]\n",
    "    if(data['addr_do'].iloc[x]==\"부산\"):\n",
    "        k=busan\n",
    "    else:\n",
    "        k=seoul\n",
    "    \n",
    "    k=k[['Unnamed: 0',data['addr_si'].iloc[x]]]\n",
    "    \n",
    "\n",
    "    result1=k.loc[  (pd.DatetimeIndex(k['Unnamed: 0']).year==y1) & \n",
    "                    (pd.DatetimeIndex(k['Unnamed: 0']).month==m1),data['addr_si'].iloc[x]  ]\n",
    "        \n",
    "    result2=k.loc[  (pd.DatetimeIndex(k['Unnamed: 0']).year==y) & \n",
    "                    (pd.DatetimeIndex(k['Unnamed: 0']).month==m),data['addr_si'].iloc[x]  ]      \n",
    "    if(len(result2)==0):\n",
    "        return np.nan\n",
    "    else:\n",
    "        return np.asscalar(result1)/np.asscalar(result2)"
   ]
  },
  {
   "cell_type": "code",
   "execution_count": null,
   "metadata": {},
   "outputs": [],
   "source": [
    "train['p_first']=train.apply(lambda x: get_expectp1(x.name,data=train),axis=1)\n",
    "train['p_first']=np.where(train['p_first'].isnull(),(train['p_first']).mean(),train['p_first'])\n",
    "\n",
    "test['p_first']=test.apply(lambda x: get_expectp1(x.name,data=test),axis=1)\n",
    "test['p_first']=np.where(test['p_first'].isnull(),(test['p_first']).mean(),test['p_first'])\n",
    "\n",
    "train['p_first_rat']=train['p_first']*train['Total_appraisal_price']/train['Minimum_sales_price']\n",
    "test['p_first_rat']=test['p_first']*test['Total_appraisal_price']/test['Minimum_sales_price']\n",
    "\n",
    "train['rat_sub_to1']=train['p_first_rat']-train['take_over_sum']/train['Minimum_sales_price']\n",
    "test['rat_sub_to1']=test['p_first_rat']-test['take_over_sum']/test['Minimum_sales_price']"
   ]
  },
  {
   "cell_type": "code",
   "execution_count": null,
   "metadata": {},
   "outputs": [],
   "source": [
    "from tqdm import tqdm\n",
    "\n",
    "result_df = pd.DataFrame()\n",
    "for i, df in tqdm(result.groupby('Auction_key')):\n",
    "    result_df.loc[i, 'Auction_key'] = int(df['Auction_key'].values[0])\n",
    "    result_df.loc[i, 'nac'] = (df['Auction_results'] == '낙찰').sum()\n",
    "    result_df.loc[i, 'bae'] = (df['Auction_results'] == '배당').sum()\n",
    "    result_df.loc[i, 'you'] = (df['Auction_results'] == '유찰').sum()\n",
    "    result_df.loc[i, 'byun'] = (df['Auction_results'] == '변경').sum()\n",
    "    result_df.loc[i, 'dae'] = (df['Auction_results'] == '대납').sum()\n",
    "    result_df.loc[i, 'nacrat'] = (df['Auction_results'] == '낙찰').mean()\n",
    "    result_df.loc[i, 'baerat'] = (df['Auction_results'] == '배당').mean()\n",
    "    result_df.loc[i, 'yourat'] = (df['Auction_results'] == '유찰').mean()\n",
    "    result_df.loc[i, 'byunrat'] = (df['Auction_results'] == '변경').mean()\n",
    "    result_df.loc[i, 'daerat'] = (df['Auction_results'] == '대납').mean()\n",
    "    result_df.loc[i, 'maxres'] = df['Auction_results'].value_counts().index[0]\n",
    "    result_df.loc[i, 'maxnum'] = df['Auction_results'].value_counts()[0]\n",
    "    result_df.loc[i, 'maxrat'] = (df['Auction_results'].value_counts()/df['Auction_results'].value_counts().sum())[0]"
   ]
  },
  {
   "cell_type": "code",
   "execution_count": null,
   "metadata": {},
   "outputs": [],
   "source": [
    "train = train.merge(result_df, how='left', on='Auction_key')\n",
    "test = test.merge(result_df, how='left', on='Auction_key')"
   ]
  },
  {
   "cell_type": "code",
   "execution_count": null,
   "metadata": {},
   "outputs": [],
   "source": [
    "def get_trend(x,data):\n",
    "    y=pd.DatetimeIndex(data['Final_auction_date']).year[x]\n",
    "    m=pd.DatetimeIndex(data['Final_auction_date']).month[x]-1\n",
    "    \n",
    "    if m&lt;=0:\n",
    "        y=pd.DatetimeIndex(data['Final_auction_date']).year[x]-1\n",
    "        m=12\n",
    "    \n",
    "    y1=pd.DatetimeIndex(data['Final_auction_date']).year[x]\n",
    "    m1=pd.DatetimeIndex(data['Final_auction_date']).month[x]\n",
    "\n",
    "    if data['addr_do'].iloc[x]==\"부산\":\n",
    "        k=busan\n",
    "    else:\n",
    "        k=seoul\n",
    "    \n",
    "    k=k[['Unnamed: 0',data['addr_si'].iloc[x]]]\n",
    "    \n",
    "    result1=k.loc[  (pd.DatetimeIndex(k['Unnamed: 0']).year==y1) & \n",
    "                    (pd.DatetimeIndex(k['Unnamed: 0']).month==m1),data['addr_si'].iloc[x]  ]\n",
    "        \n",
    "    result2=k.loc[  (pd.DatetimeIndex(k['Unnamed: 0']).year==y) & \n",
    "                    (pd.DatetimeIndex(k['Unnamed: 0']).month==m),data['addr_si'].iloc[x]  ]      \n",
    "\n",
    "    return np.asscalar(result1)/np.asscalar(result2)"
   ]
  },
  {
   "cell_type": "code",
   "execution_count": null,
   "metadata": {},
   "outputs": [],
   "source": [
    "train['trend']=train.apply(lambda x: get_trend(x.name,data=train),axis=1)\n",
    "test['trend']=test.apply(lambda x: get_trend(x.name,data=test),axis=1)"
   ]
  },
  {
   "cell_type": "code",
   "execution_count": null,
   "metadata": {},
   "outputs": [],
   "source": [
    "def get_trend1(x,data):\n",
    "    a=result.loc[(result['Auction_key']==data['Auction_key'].iloc[x]) & (result['Auction_results']==\"유찰\"),]\n",
    "    a=a['Auction_date'].max()\n",
    "    \n",
    "    y=np.asscalar(pd.DatetimeIndex(pd.Series([a])).year)\n",
    "    m=np.asscalar(pd.DatetimeIndex(pd.Series([a])).month)\n",
    "    \n",
    "    y1=pd.DatetimeIndex(data['Final_auction_date']).year[x]\n",
    "    m1=pd.DatetimeIndex(data['Final_auction_date']).month[x]\n",
    "\n",
    "    if np.asscalar(pd.Series(y).isnull()):\n",
    "        y=y1\n",
    "        m=m1\n",
    "    \n",
    "    if data['addr_do'].iloc[x]==\"부산\":\n",
    "        k=busan\n",
    "    else:\n",
    "        k=seoul\n",
    "        \n",
    "        \n",
    "    k=k[['Unnamed: 0',data['addr_si'].iloc[x]]]\n",
    "    \n",
    "    result1=k.loc[  (pd.DatetimeIndex(k['Unnamed: 0']).year==y1) & \n",
    "                    (pd.DatetimeIndex(k['Unnamed: 0']).month==m1),data['addr_si'].iloc[x]  ]\n",
    "        \n",
    "    result2=k.loc[  (pd.DatetimeIndex(k['Unnamed: 0']).year==y) & \n",
    "                    (pd.DatetimeIndex(k['Unnamed: 0']).month==m),data['addr_si'].iloc[x]  ]      \n",
    "    \n",
    "    if(len(result2)==0):\n",
    "        return np.nan\n",
    "    else:\n",
    "        return np.asscalar(result1)/np.asscalar(result2)"
   ]
  },
  {
   "cell_type": "code",
   "execution_count": null,
   "metadata": {},
   "outputs": [],
   "source": [
    "train['trend_first_fin']=train.apply(lambda x: get_trend1(x.name,data=train),axis=1)\n",
    "test['trend_first_fin']=test.apply(lambda x: get_trend1(x.name,data=test),axis=1)\n",
    "train['trend_first_fin']=np.where(train['trend_first_fin'].isnull(),train['trend_first_fin'].mean(),train['trend_first_fin'])\n",
    "test['trend_first_fin']=np.where(test['trend_first_fin'].isnull(),test['trend_first_fin'].mean(),test['trend_first_fin'])"
   ]
  },
  {
   "cell_type": "code",
   "execution_count": null,
   "metadata": {},
   "outputs": [],
   "source": [
    "newdf=pd.read_excel(\"2010-2013송근일.xlsx\")\n",
    "newdf=pd.concat([newdf,pd.read_csv(\"external_data_2014_2018 (1).csv\",engine=\"python\")],axis=0)\n",
    "newdf=newdf.drop(['번지'],axis=1)"
   ]
  },
  {
   "cell_type": "code",
   "execution_count": null,
   "metadata": {},
   "outputs": [],
   "source": [
    "newdf=newdf.drop_duplicates()\n",
    "a=newdf['계약일'].str.split(\"~\",expand=True)\n",
    "a.columns=['a','b']\n",
    "newdf['days']=(a['a'].astype('int64')/2+a['b'].astype('int64')/2).astype('int64')\n",
    "newdf['addr_bunji']=newdf['본번'].astype('str')+\"-\"+newdf['부번'].astype('str')\n",
    "newdf=newdf.drop(['본번','부번','계약일'],axis=1)\n",
    "a=newdf['시군구'].str.split(\" \",expand=True)\n",
    "a.columns=['a','addr_si','addr_dong','b']\n",
    "a=a.drop(['a','b'],axis=1)\n",
    "newdf['addr_sidong']=a['addr_si']+\" \"+a['addr_dong']\n",
    "newdf=newdf.drop(['시군구'],axis=1)\n",
    "train.loc[train['addr_bunji2'].isnull(),'addr_bunji2']=0\n",
    "train.loc[~train['addr_bunji1'].isnull(),'addr_bunji']=train.loc[~train['addr_bunji1'].isnull(),'addr_bunji1'].astype('int64').astype('str')+\"-\"+train.loc[~train['addr_bunji1'].isnull(),'addr_bunji2'].astype('int64').astype('str')\n",
    "train.loc[train['addr_bunji1'].isnull(),'addr_bunji']=np.nan\n",
    "\n",
    "test.loc[test['addr_bunji2'].isnull(),'addr_bunji2']=0\n",
    "test.loc[~test['addr_bunji1'].isnull(),'addr_bunji']=test.loc[~test['addr_bunji1'].isnull(),'addr_bunji1'].astype('int64').astype('str')+\"-\"+test.loc[~test['addr_bunji1'].isnull(),'addr_bunji2'].astype('int64').astype('str')\n",
    "test.loc[test['addr_bunji1'].isnull(),'addr_bunji']=np.nan\n",
    "\n",
    "newdf['year']=newdf['계약년월'].astype('str').str.slice(0,4)\n",
    "newdf['month']=newdf['계약년월'].astype('str').str.slice(4,6)\n",
    "newdf=newdf.drop(['계약년월'],axis=1)\n",
    "\n",
    "train['addr_sidong']=train['addr_si']+\" \"+train['addr_dong']\n",
    "test['addr_sidong']=test['addr_si']+\" \"+test['addr_dong']\n",
    "\n",
    "newdf['tr_date']=newdf['year'].astype('str')+\"-\"+newdf['month'].astype('str')+\"-\"+newdf['days'].astype('str')\n",
    "newdf=newdf.drop(['month','year','days'],axis=1)\n",
    "\n",
    "newdf['tr_date']=newdf['tr_date'].astype('str')\n",
    "newdf['tr_date']=newdf['tr_date'].apply(lambda x: datetime.strptime(x,'%Y-%m-%d'))\n",
    "\n",
    "train['Final_auction_date']=train['Final_auction_date'].astype('str').str.slice(0,10).apply(lambda x: datetime.strptime(x,'%Y-%m-%d'))\n",
    "train['Appraisal_date']=train['Appraisal_date'].astype('str').str.slice(0,10).apply(lambda x: datetime.strptime(x,'%Y-%m-%d'))\n",
    "train['First_auction_date']=train['First_auction_date'].astype('str').str.slice(0,10).apply(lambda x: datetime.strptime(x,'%Y-%m-%d'))\n",
    "\n",
    "test['Final_auction_date']=test['Final_auction_date'].astype('str').str.slice(0,10).apply(lambda x: datetime.strptime(x,'%Y-%m-%d'))\n",
    "test['Appraisal_date']=test['Appraisal_date'].astype('str').str.slice(0,10).apply(lambda x: datetime.strptime(x,'%Y-%m-%d'))\n",
    "test['First_auction_date']=test['First_auction_date'].astype('str').str.slice(0,10).apply(lambda x: datetime.strptime(x,'%Y-%m-%d'))\n",
    "newdf['거래금액(만원)']=newdf['거래금액(만원)'].astype('str').str.replace(pat=\",\",repl=\"\").astype('float')\n",
    "newdf.columns=['dan_name','Total_building_auction_area','price','Current_floor','built_date','road_name','addr_bunji','addr_sidong','tr_date']\n",
    "a=newdf['addr_sidong'].str.split(\" \",expand=True)\n",
    "a.columns=['a','b']\n",
    "newdf['addr_si']=a['a']\n",
    "newdf['position']=newdf['addr_sidong'].astype('str')+newdf['addr_bunji'].astype('str')\n",
    "train['position']=train['addr_sidong'].astype('str')+train['addr_bunji'].astype('str')\n",
    "test['position']=test['addr_sidong'].astype('str')+test['addr_bunji'].astype('str')"
   ]
  },
  {
   "cell_type": "code",
   "execution_count": null,
   "metadata": {},
   "outputs": [],
   "source": [
    "def getprice_by_bunji_finaldate(i,area_diff=5,data=train,method=\"mean\"):\n",
    "    a=pd.DatetimeIndex(newdf['tr_date']).year.isin([pd.DatetimeIndex(data['Final_auction_date']).year[i]])\n",
    "    #a=pd.DatetimeIndex(data['Final_auction_date']).year[i]==pd.DatetimeIndex(newdf['tr_date']).year\n",
    "    b=pd.DatetimeIndex(newdf['tr_date']).month.isin([pd.DatetimeIndex(data['Final_auction_date']).month[i]])\n",
    "    \n",
    "    c=newdf['position'].isin([data['position'].iloc[i]])\n",
    "    #d=newdf['addr_bunji'].isin([data['addr_bunji'].iloc[i]])\n",
    "    d=(data['Total_building_auction_area'].iloc[i]-newdf['Total_building_auction_area']).abs()&lt;=area_diff\n",
    "    final_cond=a & b & c & d\n",
    "    if (i+1)%100==0:\n",
    "        print(i+1)\n",
    "    if(method==\"mean\"):\n",
    "        return newdf.loc[final_cond,\"price\"].mean()\n",
    "    elif(method==\"median\"):\n",
    "        return newdf.loc[final_cond,\"price\"].median()\n",
    "    elif(method==\"linear_regression\"):\n",
    "        x=pd.DataFrame(newdf.loc[(newdf['addr_si']==train['addr_si'][i]) &(pd.DatetimeIndex(data['Final_auction_date']).year[i]==pd.DatetimeIndex(newdf['tr_date']).year),'Current_floor'])\n",
    "        y=pd.Series(newdf.loc[(newdf['addr_si']==train['addr_si'][i]) &(pd.DatetimeIndex(data['Final_auction_date']).year[i]==pd.DatetimeIndex(newdf['tr_date']).year),'price'])\n",
    "        lr=LinearRegression().fit(x,y)\n",
    "        return ((lr.coef_/3*(train['Current_floor'].iloc[i]-newdf.loc[final_cond,\"Current_floor\"].median())+newdf.loc[final_cond,\"price\"].median()).astype('float'))"
   ]
  },
  {
   "cell_type": "code",
   "execution_count": null,
   "metadata": {},
   "outputs": [],
   "source": [
    "def price_(i,data=train,floor_diff=10,daydiff=100):\n",
    "    a=newdf['position'].isin([data['position'].iloc[i]])\n",
    "    #b=newdf['addr_sidong'].isin([data['addr_sidong'].iloc[i]])\n",
    "    #a=data['addr_bunji'].iloc[i]==newdf['addr_bunji']\n",
    "    #b=data['addr_sidong'].iloc[i]==newdf['addr_sidong']\n",
    "    b=(data['Total_building_auction_area'].iloc[i]-newdf['Total_building_auction_area']).abs()&lt;=5\n",
    "    c=(data['Current_floor'].iloc[i]-newdf['Current_floor']).abs()&lt;=floor_diff\n",
    "    d=(newdf['tr_date']-data['Final_auction_date'].iloc[i]).abs().dt.days&lt;=daydiff\n",
    "    final_cond=a & b & c & d\n",
    "    k=newdf.loc[final_cond,]\n",
    "    if (i+1)%100==0:\n",
    "        print(i+1)\n",
    "    if(len(k)==0):\n",
    "        return np.nan\n",
    "    else:\n",
    "        return k['price'].mean()#(k.loc[(k['tr_date']-data['Final_auction_date'].iloc[i]).abs().min()==(k['tr_date']-data['Final_auction_date'].iloc[i]).abs(),\"price\"]).mean()\n",
    "    #return median(newdf.loc[(newdf.loc[final_cond,\"tr_date\"]-data['Appraisal_date']).min()==newdf[,'tr_date'],\"price\"])\n",
    "    #if(method==\"mean\"):\n",
    "    #return newdf.loc[(a & b & c),\"price\"],mean()"
   ]
  },
  {
   "cell_type": "code",
   "execution_count": null,
   "metadata": {},
   "outputs": [],
   "source": [
    "def price_prev(i,data=train,floor_diff=10,big=3):\n",
    "    a=newdf['position'].isin([data['position'].iloc[i]])\n",
    "    #b=newdf['addr_sidong'].isin([data['addr_sidong'].iloc[i]])\n",
    "    b=(data['Total_building_auction_area'].iloc[i]-newdf['Total_building_auction_area']).abs()&lt;=5\n",
    "    c=(data['Current_floor'].iloc[i]-newdf['Current_floor']).abs()&lt;=floor_diff\n",
    "    d=(data['Final_auction_date'].iloc[i]-newdf['tr_date']).dt.days&gt;0\n",
    "    final_cond=a & b & c & d\n",
    "    k=newdf.loc[final_cond,]\n",
    "    k1=(k['tr_date'])\n",
    "    if (i+1)%100==0:\n",
    "        print(i+1)\n",
    "    return (k.loc[k1.isin(k1.nlargest(big)),\"price\"]).mean()\n",
    "\n",
    "\n",
    "def price_post(i,data=train,floor_diff=10,small=3):\n",
    "    #df[df['categories'].map(lambda x: x in string.ascii_lowercase)]\n",
    "    #df[df['categories'].isin(list(string.ascii_lowercase))]\n",
    "    a=newdf['position'].isin([data['position'].iloc[i]])\n",
    "    #a=newdf['addr_bunji'].map(lambda x: x in data['addr_bunji'].iloc[i])\n",
    "    #b=newdf['addr_sidong'].isin([data['addr_sidong'].iloc[i]])\n",
    "    #b=newdf['addr_sidong'].map(lambda x: x in data['addr_sidong'].iloc[i])\n",
    "    #a=data['addr_bunji'].iloc[i]==newdf['addr_bunji']\n",
    "    #b=data['addr_sidong'].iloc[i]==newdf['addr_sidong']\n",
    "    b=(data['Total_building_auction_area'].iloc[i]-newdf['Total_building_auction_area']).abs()&lt;=5\n",
    "    c=(data['Current_floor'].iloc[i]-newdf['Current_floor']).abs()&lt;=floor_diff\n",
    "    d=(data['Final_auction_date'].iloc[i]-newdf['tr_date']).dt.days&lt;0\n",
    "    final_cond=a & b & c & d\n",
    "    k=newdf.loc[final_cond,]\n",
    "    k1=(k['tr_date'])\n",
    "    if (i+1)%100==0:\n",
    "        print(i+1)\n",
    "    return (k.loc[k1.isin(k1.nsmallest(small)),\"price\"]).mean()"
   ]
  },
  {
   "cell_type": "code",
   "execution_count": null,
   "metadata": {},
   "outputs": [],
   "source": [
    "for i in [1,5]:\n",
    "    train['p_post: '+str(i)+', '+str(10)]=train.apply(lambda x: price_post(i=x.name,small=i,floor_diff=10),axis=1)\n",
    "    train['p_prev: '+str(i)+', '+str(10)]=train.apply(lambda x: price_prev(i=x.name,big=i,floor_diff=10),axis=1)"
   ]
  },
  {
   "cell_type": "code",
   "execution_count": null,
   "metadata": {},
   "outputs": [],
   "source": [
    "for i in [5,10,50,100]:\n",
    "    train['bunji with: '+str(i)]=train.apply(lambda x: getprice_by_bunji_finaldate(i=x.name,area_diff=i),axis=1)"
   ]
  },
  {
   "cell_type": "code",
   "execution_count": null,
   "metadata": {},
   "outputs": [],
   "source": [
    "for i in [1,5]:\n",
    "    test['p_post: '+str(i)+', '+str(10)]=test.apply(lambda x: price_post(i=x.name,small=i,floor_diff=10,data=test),axis=1)\n",
    "    test['p_prev: '+str(i)+', '+str(10)]=test.apply(lambda x: price_prev(i=x.name,big=i,floor_diff=10,data=test),axis=1)"
   ]
  },
  {
   "cell_type": "code",
   "execution_count": null,
   "metadata": {},
   "outputs": [],
   "source": [
    "for i in [5,10,50,100]:\n",
    "    test['bunji with: '+str(i)]=test.apply(lambda x: getprice_by_bunji_finaldate(i=x.name,area_diff=i,data=test),axis=1)"
   ]
  },
  {
   "cell_type": "code",
   "execution_count": null,
   "metadata": {},
   "outputs": [],
   "source": [
    "train['p_prev: 1, 10']=np.where(train['p_prev: 1, 10'].isnull(),train['p_post: 1, 10'],train['p_prev: 1, 10'])\n",
    "#train['p_prev: 1, 10']=np.where(train['p_prev: 1, 10'].isnull(),train['bunji with: 5'],train['p_prev: 1, 10'])\n",
    "train['p_prev: 1, 10']=np.where(train['p_prev: 1, 10'].isnull(),train['Minimum_sales_price']*train['p_first_rat']/10000,train['p_prev: 1, 10'])\n",
    "\n",
    "\n",
    "train['p_prev: 5, 10']=np.where(train['p_prev: 5, 10'].isnull(),train['p_post: 5, 10'],train['p_prev: 5, 10'])\n",
    "#train['p_prev: 5, 10']=np.where(train['p_prev: 5, 10'].isnull(),train['bunji with: 5'],train['p_prev: 5, 10'])\n",
    "train['p_prev: 5, 10']=np.where(train['p_prev: 5, 10'].isnull(),train['Minimum_sales_price']*train['p_first_rat']/10000,train['p_prev: 5, 10'])\n",
    "\n",
    "\n",
    "#train['p_prev: 10, 10']=np.where(train['p_prev: 10, 10'].isnull(),train['p_post: 10, 10'],train['p_prev: 10, 10'])\n",
    "#train['p_prev: 10, 10']=np.where(train['p_prev: 10, 10'].isnull(),train['bunji with: 5'],train['p_prev: 10, 10'])\n",
    "#train['p_prev: 10, 10']=np.where(train['p_prev: 10, 10'].isnull(),train['Minimum_sales_price']*train['p_first_rat']/10000,train['p_prev: 10, 10'])\n",
    "\n",
    "\n",
    "\n",
    "train['p_post: 1, 10']=np.where(train['p_post: 1, 10'].isnull(),train['p_prev: 1, 10'],train['p_post: 1, 10'])\n",
    "train['p_post: 5, 10']=np.where(train['p_post: 5, 10'].isnull(),train['p_prev: 5, 10'],train['p_post: 5, 10'])\n",
    "#train['p_post: 10, 10']=np.where(train['p_post: 10, 10'].isnull(),train['p_prev: 10, 10'],train['p_post: 10, 10'])\n",
    "\n",
    "test['p_prev: 1, 10']=np.where(test['p_prev: 1, 10'].isnull(),test['p_post: 1, 10'],test['p_prev: 1, 10'])\n",
    "#test['p_prev: 1, 10']=np.where(test['p_prev: 1, 10'].isnull(),test['bunji with: 5'],test['p_prev: 1, 10'])\n",
    "test['p_prev: 1, 10']=np.where(test['p_prev: 1, 10'].isnull(),test['Minimum_sales_price']*test['p_first_rat']/10000,test['p_prev: 1, 10'])\n",
    "\n",
    "\n",
    "test['p_prev: 5, 10']=np.where(test['p_prev: 5, 10'].isnull(),test['p_post: 5, 10'],test['p_prev: 5, 10'])\n",
    "#test['p_prev: 5, 10']=np.where(test['p_prev: 5, 10'].isnull(),test['bunji with: 5'],test['p_prev: 5, 10'])\n",
    "test['p_prev: 5, 10']=np.where(test['p_prev: 5, 10'].isnull(),test['Minimum_sales_price']*test['p_first_rat']/10000,test['p_prev: 5, 10'])\n",
    "\n",
    "\n",
    "#test['p_prev: 10, 10']=np.where(test['p_prev: 10, 10'].isnull(),test['p_post: 10, 10'],test['p_prev: 10, 10'])\n",
    "#test['p_prev: 10, 10']=np.where(test['p_prev: 10, 10'].isnull(),test['bunji with: 5'],test['p_prev: 10, 10'])\n",
    "#test['p_prev: 10, 10']=np.where(test['p_prev: 10, 10'].isnull(),test['Minimum_sales_price']*test['p_first_rat']/10000,test['p_prev: 10, 10'])\n",
    "\n",
    "\n",
    "test['p_post: 1, 10']=np.where(test['p_post: 1, 10'].isnull(),test['p_prev: 1, 10'],test['p_post: 1, 10'])\n",
    "test['p_post: 5, 10']=np.where(test['p_post: 5, 10'].isnull(),test['p_prev: 5, 10'],test['p_post: 5, 10'])\n",
    "#test['p_post: 10, 10']=np.where(test['p_post: 10, 10'].isnull(),test['p_prev: 10, 10'],test['p_post: 10, 10'])"
   ]
  },
  {
   "cell_type": "code",
   "execution_count": null,
   "metadata": {},
   "outputs": [],
   "source": [
    "train['bunji with: 5']=np.where(train['bunji with: 5'].isnull(),train['p_prev: 5, 10'],train['bunji with: 5'])\n",
    "train['bunji with: 10']=np.where(train['bunji with: 10'].isnull(),train['p_prev: 5, 10'],train['bunji with: 10'])\n",
    "train['bunji with: 50']=np.where(train['bunji with: 50'].isnull(),train['p_prev: 5, 10'],train['bunji with: 50'])\n",
    "train['bunji with: 100']=np.where(train['bunji with: 100'].isnull(),train['p_prev: 5, 10'],train['bunji with: 100'])\n",
    "\n",
    "test['bunji with: 5']=np.where(test['bunji with: 5'].isnull(),test['p_prev: 5, 10'],test['bunji with: 5'])\n",
    "test['bunji with: 10']=np.where(test['bunji with: 10'].isnull(),test['p_prev: 5, 10'],test['bunji with: 10'])\n",
    "test['bunji with: 50']=np.where(test['bunji with: 50'].isnull(),test['p_prev: 5, 10'],test['bunji with: 50'])\n",
    "test['bunji with: 100']=np.where(test['bunji with: 100'].isnull(),test['p_prev: 5, 10'],test['bunji with: 100'])"
   ]
  },
  {
   "cell_type": "code",
   "execution_count": null,
   "metadata": {},
   "outputs": [],
   "source": [
    "train['p_prev: 1, 10']=train['p_prev: 1, 10']/train['Minimum_sales_price']*10000\n",
    "train['p_prev: 5, 10']=train['p_prev: 5, 10']/train['Minimum_sales_price']*10000\n",
    "#train['p_prev: 10, 10']=train['p_prev: 10, 10']/train['Minimum_sales_price']*10000\n",
    "\n",
    "train['p_post: 1, 10']=train['p_post: 1, 10']/train['Minimum_sales_price']*10000\n",
    "train['p_post: 5, 10']=train['p_post: 5, 10']/train['Minimum_sales_price']*10000\n",
    "#train['p_post: 10, 10']=train['p_post: 10, 10']/train['Minimum_sales_price']*10000\n",
    "\n",
    "train['bunji with: 5']=train['bunji with: 5']/train['Minimum_sales_price']*10000\n",
    "train['bunji with: 10']=train['bunji with: 10']/train['Minimum_sales_price']*10000\n",
    "train['bunji with: 50']=train['bunji with: 50']/train['Minimum_sales_price']*10000\n",
    "train['bunji with: 100']=train['bunji with: 100']/train['Minimum_sales_price']*10000\n",
    "\n",
    "test['p_prev: 1, 10']=test['p_prev: 1, 10']/test['Minimum_sales_price']*10000\n",
    "test['p_prev: 5, 10']=test['p_prev: 5, 10']/test['Minimum_sales_price']*10000\n",
    "#test['p_prev: 10, 10']=test['p_prev: 10, 10']/test['Minimum_sales_price']*10000\n",
    "\n",
    "test['p_post: 1, 10']=test['p_post: 1, 10']/test['Minimum_sales_price']*10000\n",
    "test['p_post: 5, 10']=test['p_post: 5, 10']/test['Minimum_sales_price']*10000\n",
    "#test['p_post: 10, 10']=test['p_post: 10, 10']/test['Minimum_sales_price']*10000\n",
    "\n",
    "test['bunji with: 5']=test['bunji with: 5']/test['Minimum_sales_price']*10000\n",
    "test['bunji with: 10']=test['bunji with: 10']/test['Minimum_sales_price']*10000\n",
    "test['bunji with: 50']=test['bunji with: 50']/test['Minimum_sales_price']*10000\n",
    "test['bunji with: 100']=test['bunji with: 100']/test['Minimum_sales_price']*10000"
   ]
  },
  {
   "cell_type": "code",
   "execution_count": null,
   "metadata": {},
   "outputs": [],
   "source": [
    "train=train.drop(['addr_bunji','addr_sidong','position'],axis=1)\n",
    "test=test.drop(['addr_bunji','addr_sidong','position'],axis=1)\n",
    "\n",
    "train=train.drop(['road_name','addr_etc','First_auction_date','Appraisal_date','addr_si','addr_dong','addr_li','addr_san'],axis=1)\n",
    "test=test.drop(['road_name','addr_etc','First_auction_date','Appraisal_date','addr_si','addr_dong','addr_li','addr_san'],axis=1)\n",
    "\n",
    "train=train.drop(['Creditor','Specific','Appraisal_company','Close_result','Final_result'],axis=1)\n",
    "test=test.drop(['Creditor','Specific','Appraisal_company','Close_result','Final_result'],axis=1)\n",
    "\n",
    "\n",
    "from datetime import datetime\n",
    "today = datetime.today()\n",
    "\n",
    "train['diff_today_final_date'] = (pd.to_datetime(train['Final_auction_date']) - today).dt.days\n",
    "#test['diff_today_appraisal_date'] = (pd.to_datetime(df_test['Appraisal_date']) - today).astype(int)\n",
    "train=train.drop(['Final_auction_date','Close_date','Preserve_regist_date'],axis=1)\n",
    "\n",
    "\n",
    "test['diff_today_final_date'] = (pd.to_datetime(test['Final_auction_date']) - today).dt.days\n",
    "test=test.drop(['Final_auction_date','Close_date','Preserve_regist_date'],axis=1)\n",
    "\n",
    "\n",
    "le = LabelEncoder()\n",
    "le_count = 0\n",
    "\n",
    "for col in train:\n",
    "    if train[col].dtype == 'object':\n",
    "        # If 2 or fewer unique categories\n",
    "        if len(list(train[col].unique())) &lt;= 2:\n",
    "            # Train on the training data\n",
    "            le.fit(train[col])\n",
    "            # Transform both training and testing data\n",
    "            train[col] = le.transform(train[col])\n",
    "            \n",
    "            # Keep track of how many columns were label encoded\n",
    "            le_count += 1\n",
    "print(le_count)\n",
    "\n",
    "train = pd.get_dummies(train)\n",
    "\n",
    "\n",
    "le = LabelEncoder()\n",
    "le_count = 0\n",
    "\n",
    "for col in test:\n",
    "    if test[col].dtype == 'object':\n",
    "        # If 2 or fewer unique categories\n",
    "        if len(list(test[col].unique())) &lt;= 2:\n",
    "            # Train on the training data\n",
    "            le.fit(test[col])\n",
    "            # Transform both training and testing data\n",
    "            test[col] = le.transform(test[col])\n",
    "            \n",
    "            # Keep track of how many columns were label encoded\n",
    "            le_count += 1\n",
    "print(le_count)\n",
    "\n",
    "test = pd.get_dummies(test)\n",
    "train=train.drop(['addr_bunji1','addr_bunji2','road_bunji1','road_bunji2'],axis=1)\n",
    "test=test.drop(['addr_bunji1','addr_bunji2','road_bunji1','road_bunji2'],axis=1)"
   ]
  },
  {
   "cell_type": "code",
   "execution_count": null,
   "metadata": {},
   "outputs": [],
   "source": [
    "import lightgbm as lgb\n",
    "def get_oof_lgbm(params, train_data, test_data, target_data, num_round, early_round, verbose_round, N_SPLITS=5, random_state=0):\n",
    "\n",
    "    FOLDs=KFold(n_splits=N_SPLITS, shuffle=True,random_state=0)\n",
    "\n",
    "    oof = np.zeros(len(train_data))\n",
    "    predictions = np.zeros(len(test_data))\n",
    "\n",
    "    features_lgb = list(train_data.columns)\n",
    "    feature_importance_df = pd.DataFrame()\n",
    "\n",
    "    for fold_, (trn_idx, val_idx) in enumerate(FOLDs.split(train_data)):\n",
    "        trn_data = lgb.Dataset(train_data.iloc[trn_idx], label=target_data.iloc[trn_idx])\n",
    "        val_data = lgb.Dataset(train_data.iloc[val_idx], label=target_data.iloc[val_idx])\n",
    "\n",
    "        print(\"LGB \" + str(fold_) + \"-\" * 50)\n",
    "        num_round = num_round\n",
    "        clf = lgb.train(params, trn_data, num_round, valid_sets = [trn_data, val_data], verbose_eval=verbose_round, \n",
    "                        early_stopping_rounds = early_round)\n",
    "        oof[val_idx] = clf.predict(train_data.iloc[val_idx], num_iteration=clf.best_iteration)\n",
    "\n",
    "        fold_importance_df = pd.DataFrame()\n",
    "        fold_importance_df[\"feature\"] = features_lgb\n",
    "        fold_importance_df[\"importance\"] = clf.feature_importance()\n",
    "        fold_importance_df[\"fold\"] = fold_ + 1\n",
    "        feature_importance_df = pd.concat([feature_importance_df, fold_importance_df], axis=0)\n",
    "        predictions += clf.predict(test_data, num_iteration=clf.best_iteration) / FOLDs.n_splits\n",
    "    return oof, predictions, feature_importance_df"
   ]
  },
  {
   "cell_type": "code",
   "execution_count": null,
   "metadata": {},
   "outputs": [],
   "source": [
    "import xgboost as xgb\n",
    "def get_oof_xgb(params, train_data, test_data, target_data, num_round, early_round, verbose_round, N_SPLITS=5, random_state=0):\n",
    "\n",
    "    FOLDs=KFold(n_splits=N_SPLITS, shuffle=True,random_state=0)\n",
    "\n",
    "    oof = np.zeros(len(train_data))\n",
    "    predictions = np.zeros(len(test_data))\n",
    "\n",
    "    feature_importance_df = pd.DataFrame()\n",
    "\n",
    "    best_iters = []\n",
    "    for fold_, (trn_idx, val_idx) in enumerate(FOLDs.split(train_data)):\n",
    "        trn_data = xgb.DMatrix(train_data.iloc[trn_idx], label=target_data.iloc[trn_idx])\n",
    "        val_data = xgb.DMatrix(train_data.iloc[val_idx], label=target_data.iloc[val_idx])\n",
    "\n",
    "#         print(\"xgb \" + str(fold_) + \"-\" * 50)\n",
    "\n",
    "        watchlist = [(trn_data, 'train'), (val_data, 'valid')]\n",
    "#         print(\"xgb \" + str(fold_) + \"-\" * 50)\n",
    "        num_round = num_round\n",
    "        xgb_model = xgb.train(params, trn_data, num_round, watchlist, \n",
    "                              early_stopping_rounds=early_round, verbose_eval=verbose_round)\n",
    "        oof[val_idx] = xgb_model.predict(xgb.DMatrix(train_data.iloc[val_idx]), \n",
    "                                             ntree_limit=xgb_model.best_ntree_limit)\n",
    "\n",
    "        predictions += xgb_model.predict(xgb.DMatrix(test_data), \n",
    "                                             ntree_limit=xgb_model.best_ntree_limit) / FOLDs.n_splits\n",
    "        \n",
    "        fold_importance_df = pd.DataFrame([xgb_model.get_score()]).T.reset_index()\n",
    "        fold_importance_df.columns = ['feature', 'importance']\n",
    "        fold_importance_df[\"fold\"] = fold_ + 1\n",
    "        feature_importance_df = pd.concat([feature_importance_df, fold_importance_df], axis=0)\n",
    "        best_iters.append(xgb_model.best_ntree_limit)\n",
    "    return oof, predictions, feature_importance_df, np.mean(best_iters)"
   ]
  },
  {
   "cell_type": "code",
   "execution_count": null,
   "metadata": {},
   "outputs": [],
   "source": [
    "input_var_names = [f for f in train if f not in ['maxres_대납','addr_dong_count','addr_dong_mean','Creditor_nunique','Creditor_entropy','private_rate','road_bunji2_NA','addr_bunji2_NA','real','Auction_miscarriage_count','Hammer_price','Auction_key','addr_bunji1','addr_bunji2','road_bunji1','road_bunji2']]#,'you','yourat','point.x','point.y']]\n",
    "rf = RandomForestRegressor(n_estimators = 1000, random_state = 42,max_features=28)\n",
    "X=train[input_var_names]\n",
    "y=train['real']\n",
    "X_1=test[input_var_names]\n",
    "y_1=test['real']#print(1)\n",
    "rf.fit(X, y)#,sample_weight=train1['weights'])\n",
    "predictions_rf1 = rf.predict(X_1)*X_1['Minimum_sales_price']"
   ]
  },
  {
   "cell_type": "code",
   "execution_count": null,
   "metadata": {},
   "outputs": [],
   "source": [
    "input_var_names = [f for f in train if f not in ['maxres_대납','addr_dong_count','addr_dong_mean','Creditor_nunique','Creditor_entropy','private_rate','road_bunji2_NA','addr_bunji2_NA','real','Auction_miscarriage_count','Hammer_price','Auction_key','addr_bunji1','addr_bunji2','road_bunji1','road_bunji2']]#,'you','yourat','point.x','point.y']]\n",
    "rf = RandomForestRegressor(n_estimators = 1000, random_state = 42)\n",
    "X=train[input_var_names]\n",
    "y=train['real']\n",
    "X_1=test[input_var_names]\n",
    "y_1=test['real']#print(1)\n",
    "rf.fit(X, y)#,sample_weight=train1['weights'])\n",
    "predictions_rf2 = rf.predict(X_1)*X_1['Minimum_sales_price']"
   ]
  },
  {
   "cell_type": "code",
   "execution_count": null,
   "metadata": {},
   "outputs": [],
   "source": [
    "import lightgbm as lgb\n",
    "xgb_params={\"objective\":\"regression\",\n",
    "           \"metric\":\"rmse\",\n",
    "           \"max_depth\":6,\n",
    "           \"min_child_samples\":2,\n",
    "           \"alpha\":0.08,\n",
    "           \"gamma\":0.06,\n",
    "           \"eta\":0.04,\n",
    "           \"subsample\":0.08,\n",
    "           \"colsample_bytree\":0.97,\n",
    "           \"silent\":True}\n",
    "a,b,c=get_oof_lgbm(xgb_params, X, X_1, y, num_round=100000, early_round=400, verbose_round=500, N_SPLITS=5, random_state=0)\n",
    "\n",
    "predictions_lgbm=b*test['Minimum_sales_price']"
   ]
  },
  {
   "cell_type": "code",
   "execution_count": null,
   "metadata": {},
   "outputs": [],
   "source": [
    "input_var_names = [f for f in train if f not in ['maxres_대납','bunji with: 5','bunji with: 10','bunji with: 50','addr_dong_count','addr_dong_mean','Creditor_nunique','Creditor_entropy','private_rate','road_bunji2_NA','addr_bunji2_NA','real','Auction_miscarriage_count','Hammer_price','Auction_key','addr_bunji1','addr_bunji2','road_bunji1','road_bunji2']]#,'you','yourat','point.x','point.y']]\n",
    "X=train[input_var_names]\n",
    "y=train['real']\n",
    "X_1=test[input_var_names]\n",
    "y_1=test['real']#print(1)\n",
    "\n",
    "import xgboost as xgb\n",
    "xgb_params={\"objective\":\"reg:linear\",\n",
    "           \"metric\":\"rmse\",\n",
    "           \"max_depth\":6,\n",
    "           \"min_child_samples\":2,\n",
    "           \"alpha\":0.08,\n",
    "           \"gamma\":0.06,\n",
    "           \"eta\":0.04,\n",
    "           \"subsample\":0.08,\n",
    "           \"colsample_bytree\":0.97,\n",
    "           \"silent\":True}\n",
    "a,b,c,d=get_oof_xgb(xgb_params, X, X_1, y, num_round=100000, early_round=400, verbose_round=500, N_SPLITS=5, random_state=0)\n",
    "\n",
    "predictions_xgb=b*test['Minimum_sales_price']"
   ]
  }
 ],
 "metadata": {
  "kernelspec": {
   "display_name": "Python 3",
   "language": "python",
   "name": "python3"
  },
  "language_info": {
   "codemirror_mode": {
    "name": "ipython",
    "version": 3
   },
   "file_extension": ".py",
   "mimetype": "text/x-python",
   "name": "python",
   "nbconvert_exporter": "python",
   "pygments_lexer": "ipython3",
   "version": "3.8.3"
  }
 },
 "nbformat": 4,
 "nbformat_minor": 4
}
