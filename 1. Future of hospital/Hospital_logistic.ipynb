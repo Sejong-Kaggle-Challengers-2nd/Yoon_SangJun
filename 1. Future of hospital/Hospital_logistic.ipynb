{
 "cells": [
  {
   "cell_type": "code",
   "execution_count": null,
   "metadata": {},
   "outputs": [],
   "source": [
    "import numpy as np\n",
    "import pandas as pd\n",
    "from sklearn.preprocessing import LabelEncoder\n",
    "from sklearn.model_selection import train_test_split\n",
    "from sklearn.ensemble import RandomForestClassifier\n",
    "from sklearn.svm import SVC"
   ]
  },
  {
   "cell_type": "code",
   "execution_count": 2,
   "metadata": {},
   "outputs": [],
   "source": [
    "#Train Data Reading\n",
    "RawData= pd.read_csv('train.csv')"
   ]
  },
  {
   "cell_type": "code",
   "execution_count": 3,
   "metadata": {},
   "outputs": [
    {
     "name": "stderr",
     "output_type": "stream",
     "text": [
      "C:\\Users\\yoons\\anaconda3\\lib\\site-packages\\pandas\\core\\frame.py:2963: SettingWithCopyWarning: \n",
      "A value is trying to be set on a copy of a slice from a DataFrame.\n",
      "Try using .loc[row_indexer,col_indexer] = value instead\n",
      "\n",
      "See the caveats in the documentation: https://pandas.pydata.org/pandas-docs/stable/user_guide/indexing.html#returning-a-view-versus-a-copy\n",
      "  self[k1] = value[k2]\n"
     ]
    }
   ],
   "source": [
    "#Data Cleaning\n",
    "#1.NAN data Drop if there is NAN data\n",
    "Raw_Drop=RawData.dropna()\n",
    "#2.Seperate the object and non_object data to convert obeject data into integer data\n",
    "Raw_object=Raw_Drop.select_dtypes(include = 'object').columns\n",
    "Raw_deobject=Raw_Drop.select_dtypes(exclude = 'object').columns\n",
    "Raw_Drop[Raw_object]=Raw_Drop.loc[:,Raw_object].apply(lambda x: LabelEncoder().fit_transform(x))"
   ]
  },
  {
   "cell_type": "code",
   "execution_count": 4,
   "metadata": {},
   "outputs": [],
   "source": [
    "#Data Seperating to make training data\n",
    "#1.Seperate X,Y \n",
    "xcol=Raw_Drop.columns.difference(['OC'])\n",
    "X=Raw_Drop[xcol]\n",
    "Y=Raw_Drop['OC']\n",
    "#2.Seperate train and test data randomly\n",
    "X_train, X_test, Y_train, Y_test=train_test_split(X,Y, test_size=0.05)"
   ]
  },
  {
   "cell_type": "code",
   "execution_count": 5,
   "metadata": {},
   "outputs": [
    {
     "name": "stdout",
     "output_type": "stream",
     "text": [
      "[1 1 1 1 1 1 1 1 1 1 1 1 1 1]\n",
      "182    1\n",
      "241    1\n",
      "235    1\n",
      "201    1\n",
      "195    1\n",
      "118    1\n",
      "234    1\n",
      "256    1\n",
      "21     1\n",
      "126    1\n",
      "275    1\n",
      "172    1\n",
      "31     1\n",
      "54     1\n",
      "Name: OC, dtype: int32\n",
      "accuracy of RandomForest:  0.9999999999999998\n"
     ]
    }
   ],
   "source": [
    "#Make Models\n",
    "#1.RandomForest Model\n",
    "model= RandomForestClassifier(n_estimators = 5)\n",
    "model_fit= model.fit(X_train, Y_train)\n",
    "predict_rf = model.predict(X_test)\n",
    "#show result\n",
    "print(predict_rf)\n",
    "print(Y_test)\n",
    "print(\"accuracy of RandomForest: \",np.sum(((predict_rf==Y_test)/len(predict_rf))))"
   ]
  },
  {
   "cell_type": "code",
   "execution_count": null,
   "metadata": {},
   "outputs": [],
   "source": []
  },
  {
   "cell_type": "code",
   "execution_count": null,
   "metadata": {},
   "outputs": [],
   "source": []
  }
 ],
 "metadata": {
  "kernelspec": {
   "display_name": "Python 3",
   "language": "python",
   "name": "python3"
  },
  "language_info": {
   "codemirror_mode": {
    "name": "ipython",
    "version": 3
   },
   "file_extension": ".py",
   "mimetype": "text/x-python",
   "name": "python",
   "nbconvert_exporter": "python",
   "pygments_lexer": "ipython3",
   "version": "3.8.3"
  }
 },
 "nbformat": 4,
 "nbformat_minor": 4
}
